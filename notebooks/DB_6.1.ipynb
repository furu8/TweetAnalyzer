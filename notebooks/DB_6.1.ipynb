{
 "cells": [
  {
   "cell_type": "markdown",
   "metadata": {},
   "source": [
    "# 大規模データベース論\n",
    "## 第6章 ビックデータ分析基盤の構築\n",
    "## 6.1 スキーマレスデータのアドホック分析"
   ]
  },
  {
   "cell_type": "code",
   "execution_count": 1,
   "metadata": {},
   "outputs": [
    {
     "name": "stdout",
     "output_type": "stream",
     "text": [
      "MongoDB shell version v4.4.1\r\n",
      "Build Info: {\r\n",
      "    \"version\": \"4.4.1\",\r\n",
      "    \"gitVersion\": \"ad91a93a5a31e175f5cbf8c69561e788bbc55ce1\",\r\n",
      "    \"modules\": [],\r\n",
      "    \"allocator\": \"system\",\r\n",
      "    \"environment\": {\r\n",
      "        \"distarch\": \"x86_64\",\r\n",
      "        \"target_arch\": \"x86_64\"\r\n",
      "    }\r\n",
      "}\r\n"
     ]
    }
   ],
   "source": [
    "!mongo --version\n",
    "# 4.4.1"
   ]
  },
  {
   "cell_type": "code",
   "execution_count": 2,
   "metadata": {},
   "outputs": [
    {
     "name": "stdout",
     "output_type": "stream",
     "text": [
      "apache-spark: stable 3.0.1, HEAD\n",
      "Engine for large-scale data processing\n",
      "\u001b[4mhttps://spark.apache.org/\u001b[24m\n",
      "/usr/local/Cellar/apache-spark/3.0.1 (1,237 files, 238.1MB) *\n",
      "  Built from source on 2021-01-31 at 15:34:09\n",
      "From: \u001b[4mhttps://github.com/Homebrew/homebrew-core/blob/HEAD/Formula/apache-spark.rb\u001b[24m\n",
      "License: Apache-2.0\n",
      "\u001b[34m==>\u001b[0m \u001b[1mDependencies\u001b[0m\n",
      "Required: \u001b[1mopenjdk@11 \u001b[32m✔\u001b[0m\u001b[0m\n",
      "\u001b[34m==>\u001b[0m \u001b[1mOptions\u001b[0m\n",
      "--HEAD\n",
      "\tInstall HEAD version\n",
      "\u001b[34m==>\u001b[0m \u001b[1mAnalytics\u001b[0m\n",
      "install: 3,378 (30 days), 10,785 (90 days), 58,837 (365 days)\n",
      "install-on-request: 3,374 (30 days), 10,731 (90 days), 57,727 (365 days)\n",
      "build-error: 0 (30 days)\n"
     ]
    }
   ],
   "source": [
    "!brew info apache-spark\n",
    "# 3.0.1"
   ]
  },
  {
   "cell_type": "code",
   "execution_count": 3,
   "metadata": {},
   "outputs": [
    {
     "name": "stdout",
     "output_type": "stream",
     "text": [
      "WARNING: pip is being invoked by an old script wrapper. This will fail in a future version of pip.\n",
      "Please see https://github.com/pypa/pip/issues/5599 for advice on fixing the underlying issue.\n",
      "To avoid this problem you can invoke Python with '-m pip' instead of running pip directly.\n",
      "Name: pandas\n",
      "Version: 1.1.5\n",
      "Summary: Powerful data structures for data analysis, time series, and statistics\n",
      "Home-page: https://pandas.pydata.org\n",
      "Author: None\n",
      "Author-email: None\n",
      "License: BSD\n",
      "Location: /Users/furuhama/Library/Python/3.8/lib/python/site-packages\n",
      "Requires: python-dateutil, pytz, numpy\n",
      "Required-by: \n"
     ]
    }
   ],
   "source": [
    "!pip3 show pandas\n",
    "# 1.1.5"
   ]
  },
  {
   "cell_type": "code",
   "execution_count": 4,
   "metadata": {},
   "outputs": [
    {
     "name": "stdout",
     "output_type": "stream",
     "text": [
      "6.1.0\r\n"
     ]
    }
   ],
   "source": [
    "!jupyter-console --version"
   ]
  },
  {
   "cell_type": "code",
   "execution_count": 2,
   "metadata": {},
   "outputs": [
    {
     "name": "stdout",
     "output_type": "stream",
     "text": [
      "openjdk version \"11.0.9\" 2020-10-20\r\n",
      "OpenJDK Runtime Environment (build 11.0.9+11)\r\n",
      "OpenJDK 64-Bit Server VM (build 11.0.9+11, mixed mode)\r\n"
     ]
    }
   ],
   "source": [
    "!java -version\n",
    "# 15.0.1"
   ]
  },
  {
   "cell_type": "code",
   "execution_count": 3,
   "metadata": {},
   "outputs": [
    {
     "name": "stdout",
     "output_type": "stream",
     "text": [
      "Python 3.8.2\r\n"
     ]
    }
   ],
   "source": [
    "!python3 --version\n",
    "# 3.8.2"
   ]
  },
  {
   "cell_type": "markdown",
   "metadata": {},
   "source": [
    "### MongoDBのインストール\n",
    "本書の情報が古く` $ brew install mongodb` ができないため、https://www.tweeeety.blog/entry/2020/08/23/033501 を参考にインストール。\n",
    "```\n",
    "$ brew tap mongodb/brew\n",
    "$ brew install mongodb-community\n",
    "```"
   ]
  },
  {
   "cell_type": "code",
   "execution_count": 7,
   "metadata": {},
   "outputs": [
    {
     "name": "stdout",
     "output_type": "stream",
     "text": [
      "db version v4.4.1\r\n",
      "Build Info: {\r\n",
      "    \"version\": \"4.4.1\",\r\n",
      "    \"gitVersion\": \"ad91a93a5a31e175f5cbf8c69561e788bbc55ce1\",\r\n",
      "    \"modules\": [],\r\n",
      "    \"allocator\": \"system\",\r\n",
      "    \"environment\": {\r\n",
      "        \"distarch\": \"x86_64\",\r\n",
      "        \"target_arch\": \"x86_64\"\r\n",
      "    }\r\n",
      "}\r\n"
     ]
    }
   ],
   "source": [
    "!mongod --version"
   ]
  },
  {
   "cell_type": "markdown",
   "metadata": {},
   "source": [
    "### MongoDBの起動\n",
    "```\n",
    "$ brew services start mongodb-community   # mongdbのバックグランドプロセスを自動起動\n",
    "\n",
    "$ brew services stop mongodb-community   # 自動起動停止\n",
    "\n",
    "$ mongo # 起動\n",
    "```\n",
    "https://gxliu.hatenablog.com/entry/2020/10/25/201501\n"
   ]
  },
  {
   "cell_type": "code",
   "execution_count": 1,
   "metadata": {},
   "outputs": [],
   "source": [
    "import pymongo\n",
    "import pandas as pd"
   ]
  },
  {
   "cell_type": "code",
   "execution_count": 2,
   "metadata": {},
   "outputs": [
    {
     "output_type": "execute_result",
     "data": {
      "text/plain": [
       "{'_id': ObjectId('6015a577da278cb58ed9e69e'),\n",
       " 'delete': {'status': {'id': 1285090306963066880,\n",
       "   'id_str': '1285090306963066880',\n",
       "   'user_id': 961050601147658245,\n",
       "   'user_id_str': '961050601147658245'},\n",
       "  'timestamp_ms': '1612030429299'},\n",
       " '_timestamp': '2021-01-30T18:29:11.017532'}"
      ]
     },
     "metadata": {},
     "execution_count": 2
    }
   ],
   "source": [
    "mongo = pymongo.MongoClient()\n",
    "mongo.twitter.sample.find_one()"
   ]
  },
  {
   "cell_type": "code",
   "execution_count": 7,
   "metadata": {},
   "outputs": [
    {
     "output_type": "execute_result",
     "data": {
      "text/plain": [
       "                           _id                      created_at  \\\n",
       "0     6015a577da278cb58ed9e6ef  Sat Jan 30 18:29:06 +0000 2021   \n",
       "1     6015a577da278cb58ed9e6f1  Sat Jan 30 18:29:06 +0000 2021   \n",
       "2     6015a577da278cb58ed9e6f2  Sat Jan 30 18:29:06 +0000 2021   \n",
       "3     6015a577da278cb58ed9e6f3  Sat Jan 30 18:29:06 +0000 2021   \n",
       "4     6015a577da278cb58ed9e6f6  Sat Jan 30 18:29:06 +0000 2021   \n",
       "...                        ...                             ...   \n",
       "4618  6015ad2f81ff34d0642d3542  Sat Jan 30 19:02:02 +0000 2021   \n",
       "4619  6015ad2f81ff34d0642d3544  Sat Jan 30 19:02:02 +0000 2021   \n",
       "4620  6015ad2f81ff34d0642d3545  Sat Jan 30 19:02:02 +0000 2021   \n",
       "4621  6015ad2f81ff34d0642d354a  Sat Jan 30 19:02:02 +0000 2021   \n",
       "4622  6015ad3081ff34d0642d354f  Sat Jan 30 19:02:02 +0000 2021   \n",
       "\n",
       "                       id               id_str  \\\n",
       "0     1355583835870621697  1355583835870621697   \n",
       "1     1355583835870810113  1355583835870810113   \n",
       "2     1355583835866624000  1355583835866624000   \n",
       "3     1355583835900174344  1355583835900174344   \n",
       "4     1355583835883204608  1355583835883204608   \n",
       "...                   ...                  ...   \n",
       "4618  1355592123840487427  1355592123840487427   \n",
       "4619  1355592123836493833  1355592123836493833   \n",
       "4620  1355592123849060353  1355592123849060353   \n",
       "4621  1355592123844685825  1355592123844685825   \n",
       "4622  1355592123836317696  1355592123836317696   \n",
       "\n",
       "                                                   text  \\\n",
       "0     RT @Raglant33: these 7 minute long credits for...   \n",
       "1                          @TheGingerarchy White walker   \n",
       "2     [Question] Can AltDeploy be used on iOS 13.5 h...   \n",
       "3     RT @Stock_Car_Spec: Season 3 is here!! \\nWe di...   \n",
       "4     RT @TransEthics: By calling cis people cis we ...   \n",
       "...                                                 ...   \n",
       "4618                                            no rips   \n",
       "4619  @StojyBoy Ccc extra meat\\n add bacon\\n america...   \n",
       "4620  @luckyisdesi I was thinking of uncle/auntie as...   \n",
       "4621                 Dr. Hope!😎 https://t.co/xvjurm10dU   \n",
       "4622  He was wearing exact denim pollo that he wore ...   \n",
       "\n",
       "                                                 source  truncated  \\\n",
       "0     <a href=\"http://twitter.com/download/iphone\" r...      False   \n",
       "1     <a href=\"https://mobile.twitter.com\" rel=\"nofo...      False   \n",
       "2     <a href=\"http://reddit.com/r/jailbreak\" rel=\"n...      False   \n",
       "3     <a href=\"http://twitter.com/download/iphone\" r...      False   \n",
       "4     <a href=\"http://twitter.com/download/iphone\" r...      False   \n",
       "...                                                 ...        ...   \n",
       "4618  <a href=\"http://twitter.com/download/iphone\" r...      False   \n",
       "4619  <a href=\"http://twitter.com/download/android\" ...       True   \n",
       "4620  <a href=\"http://twitter.com/download/android\" ...       True   \n",
       "4621  <a href=\"https://mobile.twitter.com\" rel=\"nofo...      False   \n",
       "4622  <a href=\"http://twitter.com/download/android\" ...       True   \n",
       "\n",
       "      in_reply_to_status_id in_reply_to_status_id_str  in_reply_to_user_id  \\\n",
       "0                       NaN                      None                  NaN   \n",
       "1              1.355579e+18       1355578770808299522         1.712939e+09   \n",
       "2                       NaN                      None                  NaN   \n",
       "3                       NaN                      None                  NaN   \n",
       "4                       NaN                      None                  NaN   \n",
       "...                     ...                       ...                  ...   \n",
       "4618                    NaN                      None                  NaN   \n",
       "4619           1.355578e+18       1355578193621647367         1.266769e+18   \n",
       "4620           1.355590e+18       1355589675902251008         2.255027e+09   \n",
       "4621           1.355589e+18       1355589324725657600         1.355555e+18   \n",
       "4622                    NaN                      None                  NaN   \n",
       "\n",
       "      ... filter_level lang   timestamp_ms                  _timestamp  \\\n",
       "0     ...          low   en  1612031346658  2021-01-30T18:29:11.682893   \n",
       "1     ...          low   en  1612031346658  2021-01-30T18:29:11.713740   \n",
       "2     ...          low   en  1612031346657  2021-01-30T18:29:11.715593   \n",
       "3     ...          low   en  1612031346665  2021-01-30T18:29:11.717903   \n",
       "4     ...          low   en  1612031346661  2021-01-30T18:29:11.724688   \n",
       "...   ...          ...  ...            ...                         ...   \n",
       "4618  ...          low   en  1612033322664  2021-01-30T19:02:07.740138   \n",
       "4619  ...          low   en  1612033322663  2021-01-30T19:02:07.744333   \n",
       "4620  ...          low   en  1612033322666  2021-01-30T19:02:07.745749   \n",
       "4621  ...          low   en  1612033322665  2021-01-30T19:02:07.753038   \n",
       "4622  ...          low   en  1612033322663  2021-01-30T19:02:08.309622   \n",
       "\n",
       "     display_text_range quoted_status_id quoted_status_id_str  \\\n",
       "0                   NaN              NaN                  NaN   \n",
       "1              [16, 28]              NaN                  NaN   \n",
       "2                   NaN              NaN                  NaN   \n",
       "3                   NaN              NaN                  NaN   \n",
       "4                   NaN              NaN                  NaN   \n",
       "...                 ...              ...                  ...   \n",
       "4618                NaN     1.319257e+18  1319257290076246016   \n",
       "4619          [10, 140]              NaN                  NaN   \n",
       "4620          [13, 140]              NaN                  NaN   \n",
       "4621            [0, 10]              NaN                  NaN   \n",
       "4622           [0, 140]     1.355588e+18  1355588337394802688   \n",
       "\n",
       "                                          quoted_status  \\\n",
       "0                                                   NaN   \n",
       "1                                                   NaN   \n",
       "2                                                   NaN   \n",
       "3                                                   NaN   \n",
       "4                                                   NaN   \n",
       "...                                                 ...   \n",
       "4618  {'created_at': 'Thu Oct 22 12:40:23 +0000 2020...   \n",
       "4619                                                NaN   \n",
       "4620                                                NaN   \n",
       "4621                                                NaN   \n",
       "4622  {'created_at': 'Sat Jan 30 18:46:59 +0000 2021...   \n",
       "\n",
       "                                quoted_status_permalink  \\\n",
       "0                                                   NaN   \n",
       "1                                                   NaN   \n",
       "2                                                   NaN   \n",
       "3                                                   NaN   \n",
       "4                                                   NaN   \n",
       "...                                                 ...   \n",
       "4618  {'url': 'https://t.co/uQlN5xtPZl', 'expanded':...   \n",
       "4619                                                NaN   \n",
       "4620                                                NaN   \n",
       "4621                                                NaN   \n",
       "4622  {'url': 'https://t.co/kneKLrC1v0', 'expanded':...   \n",
       "\n",
       "                                         extended_tweet  \n",
       "0                                                   NaN  \n",
       "1                                                   NaN  \n",
       "2                                                   NaN  \n",
       "3                                                   NaN  \n",
       "4                                                   NaN  \n",
       "...                                                 ...  \n",
       "4618                                                NaN  \n",
       "4619  {'full_text': '@StojyBoy Ccc extra meat\n",
       " add b...  \n",
       "4620  {'full_text': '@luckyisdesi I was thinking of ...  \n",
       "4621                                                NaN  \n",
       "4622  {'full_text': 'He was wearing exact denim poll...  \n",
       "\n",
       "[4623 rows x 38 columns]"
      ],
      "text/html": "<div>\n<style scoped>\n    .dataframe tbody tr th:only-of-type {\n        vertical-align: middle;\n    }\n\n    .dataframe tbody tr th {\n        vertical-align: top;\n    }\n\n    .dataframe thead th {\n        text-align: right;\n    }\n</style>\n<table border=\"1\" class=\"dataframe\">\n  <thead>\n    <tr style=\"text-align: right;\">\n      <th></th>\n      <th>_id</th>\n      <th>created_at</th>\n      <th>id</th>\n      <th>id_str</th>\n      <th>text</th>\n      <th>source</th>\n      <th>truncated</th>\n      <th>in_reply_to_status_id</th>\n      <th>in_reply_to_status_id_str</th>\n      <th>in_reply_to_user_id</th>\n      <th>...</th>\n      <th>filter_level</th>\n      <th>lang</th>\n      <th>timestamp_ms</th>\n      <th>_timestamp</th>\n      <th>display_text_range</th>\n      <th>quoted_status_id</th>\n      <th>quoted_status_id_str</th>\n      <th>quoted_status</th>\n      <th>quoted_status_permalink</th>\n      <th>extended_tweet</th>\n    </tr>\n  </thead>\n  <tbody>\n    <tr>\n      <th>0</th>\n      <td>6015a577da278cb58ed9e6ef</td>\n      <td>Sat Jan 30 18:29:06 +0000 2021</td>\n      <td>1355583835870621697</td>\n      <td>1355583835870621697</td>\n      <td>RT @Raglant33: these 7 minute long credits for...</td>\n      <td>&lt;a href=\"http://twitter.com/download/iphone\" r...</td>\n      <td>False</td>\n      <td>NaN</td>\n      <td>None</td>\n      <td>NaN</td>\n      <td>...</td>\n      <td>low</td>\n      <td>en</td>\n      <td>1612031346658</td>\n      <td>2021-01-30T18:29:11.682893</td>\n      <td>NaN</td>\n      <td>NaN</td>\n      <td>NaN</td>\n      <td>NaN</td>\n      <td>NaN</td>\n      <td>NaN</td>\n    </tr>\n    <tr>\n      <th>1</th>\n      <td>6015a577da278cb58ed9e6f1</td>\n      <td>Sat Jan 30 18:29:06 +0000 2021</td>\n      <td>1355583835870810113</td>\n      <td>1355583835870810113</td>\n      <td>@TheGingerarchy White walker</td>\n      <td>&lt;a href=\"https://mobile.twitter.com\" rel=\"nofo...</td>\n      <td>False</td>\n      <td>1.355579e+18</td>\n      <td>1355578770808299522</td>\n      <td>1.712939e+09</td>\n      <td>...</td>\n      <td>low</td>\n      <td>en</td>\n      <td>1612031346658</td>\n      <td>2021-01-30T18:29:11.713740</td>\n      <td>[16, 28]</td>\n      <td>NaN</td>\n      <td>NaN</td>\n      <td>NaN</td>\n      <td>NaN</td>\n      <td>NaN</td>\n    </tr>\n    <tr>\n      <th>2</th>\n      <td>6015a577da278cb58ed9e6f2</td>\n      <td>Sat Jan 30 18:29:06 +0000 2021</td>\n      <td>1355583835866624000</td>\n      <td>1355583835866624000</td>\n      <td>[Question] Can AltDeploy be used on iOS 13.5 h...</td>\n      <td>&lt;a href=\"http://reddit.com/r/jailbreak\" rel=\"n...</td>\n      <td>False</td>\n      <td>NaN</td>\n      <td>None</td>\n      <td>NaN</td>\n      <td>...</td>\n      <td>low</td>\n      <td>en</td>\n      <td>1612031346657</td>\n      <td>2021-01-30T18:29:11.715593</td>\n      <td>NaN</td>\n      <td>NaN</td>\n      <td>NaN</td>\n      <td>NaN</td>\n      <td>NaN</td>\n      <td>NaN</td>\n    </tr>\n    <tr>\n      <th>3</th>\n      <td>6015a577da278cb58ed9e6f3</td>\n      <td>Sat Jan 30 18:29:06 +0000 2021</td>\n      <td>1355583835900174344</td>\n      <td>1355583835900174344</td>\n      <td>RT @Stock_Car_Spec: Season 3 is here!! \\nWe di...</td>\n      <td>&lt;a href=\"http://twitter.com/download/iphone\" r...</td>\n      <td>False</td>\n      <td>NaN</td>\n      <td>None</td>\n      <td>NaN</td>\n      <td>...</td>\n      <td>low</td>\n      <td>en</td>\n      <td>1612031346665</td>\n      <td>2021-01-30T18:29:11.717903</td>\n      <td>NaN</td>\n      <td>NaN</td>\n      <td>NaN</td>\n      <td>NaN</td>\n      <td>NaN</td>\n      <td>NaN</td>\n    </tr>\n    <tr>\n      <th>4</th>\n      <td>6015a577da278cb58ed9e6f6</td>\n      <td>Sat Jan 30 18:29:06 +0000 2021</td>\n      <td>1355583835883204608</td>\n      <td>1355583835883204608</td>\n      <td>RT @TransEthics: By calling cis people cis we ...</td>\n      <td>&lt;a href=\"http://twitter.com/download/iphone\" r...</td>\n      <td>False</td>\n      <td>NaN</td>\n      <td>None</td>\n      <td>NaN</td>\n      <td>...</td>\n      <td>low</td>\n      <td>en</td>\n      <td>1612031346661</td>\n      <td>2021-01-30T18:29:11.724688</td>\n      <td>NaN</td>\n      <td>NaN</td>\n      <td>NaN</td>\n      <td>NaN</td>\n      <td>NaN</td>\n      <td>NaN</td>\n    </tr>\n    <tr>\n      <th>...</th>\n      <td>...</td>\n      <td>...</td>\n      <td>...</td>\n      <td>...</td>\n      <td>...</td>\n      <td>...</td>\n      <td>...</td>\n      <td>...</td>\n      <td>...</td>\n      <td>...</td>\n      <td>...</td>\n      <td>...</td>\n      <td>...</td>\n      <td>...</td>\n      <td>...</td>\n      <td>...</td>\n      <td>...</td>\n      <td>...</td>\n      <td>...</td>\n      <td>...</td>\n      <td>...</td>\n    </tr>\n    <tr>\n      <th>4618</th>\n      <td>6015ad2f81ff34d0642d3542</td>\n      <td>Sat Jan 30 19:02:02 +0000 2021</td>\n      <td>1355592123840487427</td>\n      <td>1355592123840487427</td>\n      <td>no rips</td>\n      <td>&lt;a href=\"http://twitter.com/download/iphone\" r...</td>\n      <td>False</td>\n      <td>NaN</td>\n      <td>None</td>\n      <td>NaN</td>\n      <td>...</td>\n      <td>low</td>\n      <td>en</td>\n      <td>1612033322664</td>\n      <td>2021-01-30T19:02:07.740138</td>\n      <td>NaN</td>\n      <td>1.319257e+18</td>\n      <td>1319257290076246016</td>\n      <td>{'created_at': 'Thu Oct 22 12:40:23 +0000 2020...</td>\n      <td>{'url': 'https://t.co/uQlN5xtPZl', 'expanded':...</td>\n      <td>NaN</td>\n    </tr>\n    <tr>\n      <th>4619</th>\n      <td>6015ad2f81ff34d0642d3544</td>\n      <td>Sat Jan 30 19:02:02 +0000 2021</td>\n      <td>1355592123836493833</td>\n      <td>1355592123836493833</td>\n      <td>@StojyBoy Ccc extra meat\\n add bacon\\n america...</td>\n      <td>&lt;a href=\"http://twitter.com/download/android\" ...</td>\n      <td>True</td>\n      <td>1.355578e+18</td>\n      <td>1355578193621647367</td>\n      <td>1.266769e+18</td>\n      <td>...</td>\n      <td>low</td>\n      <td>en</td>\n      <td>1612033322663</td>\n      <td>2021-01-30T19:02:07.744333</td>\n      <td>[10, 140]</td>\n      <td>NaN</td>\n      <td>NaN</td>\n      <td>NaN</td>\n      <td>NaN</td>\n      <td>{'full_text': '@StojyBoy Ccc extra meat\n add b...</td>\n    </tr>\n    <tr>\n      <th>4620</th>\n      <td>6015ad2f81ff34d0642d3545</td>\n      <td>Sat Jan 30 19:02:02 +0000 2021</td>\n      <td>1355592123849060353</td>\n      <td>1355592123849060353</td>\n      <td>@luckyisdesi I was thinking of uncle/auntie as...</td>\n      <td>&lt;a href=\"http://twitter.com/download/android\" ...</td>\n      <td>True</td>\n      <td>1.355590e+18</td>\n      <td>1355589675902251008</td>\n      <td>2.255027e+09</td>\n      <td>...</td>\n      <td>low</td>\n      <td>en</td>\n      <td>1612033322666</td>\n      <td>2021-01-30T19:02:07.745749</td>\n      <td>[13, 140]</td>\n      <td>NaN</td>\n      <td>NaN</td>\n      <td>NaN</td>\n      <td>NaN</td>\n      <td>{'full_text': '@luckyisdesi I was thinking of ...</td>\n    </tr>\n    <tr>\n      <th>4621</th>\n      <td>6015ad2f81ff34d0642d354a</td>\n      <td>Sat Jan 30 19:02:02 +0000 2021</td>\n      <td>1355592123844685825</td>\n      <td>1355592123844685825</td>\n      <td>Dr. Hope!😎 https://t.co/xvjurm10dU</td>\n      <td>&lt;a href=\"https://mobile.twitter.com\" rel=\"nofo...</td>\n      <td>False</td>\n      <td>1.355589e+18</td>\n      <td>1355589324725657600</td>\n      <td>1.355555e+18</td>\n      <td>...</td>\n      <td>low</td>\n      <td>en</td>\n      <td>1612033322665</td>\n      <td>2021-01-30T19:02:07.753038</td>\n      <td>[0, 10]</td>\n      <td>NaN</td>\n      <td>NaN</td>\n      <td>NaN</td>\n      <td>NaN</td>\n      <td>NaN</td>\n    </tr>\n    <tr>\n      <th>4622</th>\n      <td>6015ad3081ff34d0642d354f</td>\n      <td>Sat Jan 30 19:02:02 +0000 2021</td>\n      <td>1355592123836317696</td>\n      <td>1355592123836317696</td>\n      <td>He was wearing exact denim pollo that he wore ...</td>\n      <td>&lt;a href=\"http://twitter.com/download/android\" ...</td>\n      <td>True</td>\n      <td>NaN</td>\n      <td>None</td>\n      <td>NaN</td>\n      <td>...</td>\n      <td>low</td>\n      <td>en</td>\n      <td>1612033322663</td>\n      <td>2021-01-30T19:02:08.309622</td>\n      <td>[0, 140]</td>\n      <td>1.355588e+18</td>\n      <td>1355588337394802688</td>\n      <td>{'created_at': 'Sat Jan 30 18:46:59 +0000 2021...</td>\n      <td>{'url': 'https://t.co/kneKLrC1v0', 'expanded':...</td>\n      <td>{'full_text': 'He was wearing exact denim poll...</td>\n    </tr>\n  </tbody>\n</table>\n<p>4623 rows × 38 columns</p>\n</div>"
     },
     "metadata": {},
     "execution_count": 7
    }
   ],
   "source": [
    "df = pd.DataFrame(list(mongo.twitter.sample.find({'lang':'en'})))\n",
    "df"
   ]
  },
  {
   "cell_type": "code",
   "execution_count": 8,
   "metadata": {},
   "outputs": [
    {
     "output_type": "execute_result",
     "data": {
      "text/plain": [
       "_id                             0\n",
       "created_at                      0\n",
       "id                              0\n",
       "id_str                          0\n",
       "text                            0\n",
       "source                          0\n",
       "truncated                       0\n",
       "in_reply_to_status_id        3361\n",
       "in_reply_to_status_id_str    3361\n",
       "in_reply_to_user_id          3338\n",
       "in_reply_to_user_id_str      3338\n",
       "in_reply_to_screen_name      3338\n",
       "user                            0\n",
       "geo                          4617\n",
       "coordinates                  4617\n",
       "place                        4574\n",
       "contributors                 4623\n",
       "retweeted_status             2281\n",
       "is_quote_status                 0\n",
       "quote_count                     0\n",
       "reply_count                     0\n",
       "retweet_count                   0\n",
       "favorite_count                  0\n",
       "entities                        0\n",
       "extended_entities            3737\n",
       "favorited                       0\n",
       "retweeted                       0\n",
       "possibly_sensitive           3364\n",
       "filter_level                    0\n",
       "lang                            0\n",
       "timestamp_ms                    0\n",
       "_timestamp                      0\n",
       "display_text_range           3223\n",
       "quoted_status_id             4153\n",
       "quoted_status_id_str         4153\n",
       "quoted_status                4155\n",
       "quoted_status_permalink      4155\n",
       "extended_tweet               4202\n",
       "dtype: int64"
      ]
     },
     "metadata": {},
     "execution_count": 8
    }
   ],
   "source": [
    "df.isnull().sum()"
   ]
  },
  {
   "cell_type": "code",
   "execution_count": 12,
   "metadata": {},
   "outputs": [],
   "source": [
    "# MongoDBからレコードを読むジェネレータ関数\n",
    "def tweets(*args, **kwargs):\n",
    "    for tweet in mongo.twitter.sample.find(*args, **kwargs):\n",
    "        if 'delete' not in tweet:\n",
    "            # 興味のあるフィールドだけをyield\n",
    "            yield {\n",
    "                'created_at': tweet['created_at'],\n",
    "                'text': tweet['text']\n",
    "            }"
   ]
  },
  {
   "cell_type": "code",
   "execution_count": 13,
   "metadata": {},
   "outputs": [
    {
     "data": {
      "text/html": [
       "<div>\n",
       "<style scoped>\n",
       "    .dataframe tbody tr th:only-of-type {\n",
       "        vertical-align: middle;\n",
       "    }\n",
       "\n",
       "    .dataframe tbody tr th {\n",
       "        vertical-align: top;\n",
       "    }\n",
       "\n",
       "    .dataframe thead th {\n",
       "        text-align: right;\n",
       "    }\n",
       "</style>\n",
       "<table border=\"1\" class=\"dataframe\">\n",
       "  <thead>\n",
       "    <tr style=\"text-align: right;\">\n",
       "      <th></th>\n",
       "      <th>created_at</th>\n",
       "      <th>text</th>\n",
       "    </tr>\n",
       "  </thead>\n",
       "  <tbody>\n",
       "    <tr>\n",
       "      <th>0</th>\n",
       "      <td>Sat Jan 30 18:29:06 +0000 2021</td>\n",
       "      <td>RT @Raglant33: these 7 minute long credits for...</td>\n",
       "    </tr>\n",
       "    <tr>\n",
       "      <th>1</th>\n",
       "      <td>Sat Jan 30 18:29:06 +0000 2021</td>\n",
       "      <td>@TheGingerarchy White walker</td>\n",
       "    </tr>\n",
       "    <tr>\n",
       "      <th>2</th>\n",
       "      <td>Sat Jan 30 18:29:06 +0000 2021</td>\n",
       "      <td>[Question] Can AltDeploy be used on iOS 13.5 h...</td>\n",
       "    </tr>\n",
       "    <tr>\n",
       "      <th>3</th>\n",
       "      <td>Sat Jan 30 18:29:06 +0000 2021</td>\n",
       "      <td>RT @Stock_Car_Spec: Season 3 is here!! \\nWe di...</td>\n",
       "    </tr>\n",
       "    <tr>\n",
       "      <th>4</th>\n",
       "      <td>Sat Jan 30 18:29:06 +0000 2021</td>\n",
       "      <td>RT @TransEthics: By calling cis people cis we ...</td>\n",
       "    </tr>\n",
       "    <tr>\n",
       "      <th>...</th>\n",
       "      <td>...</td>\n",
       "      <td>...</td>\n",
       "    </tr>\n",
       "    <tr>\n",
       "      <th>4618</th>\n",
       "      <td>Sat Jan 30 19:02:02 +0000 2021</td>\n",
       "      <td>no rips</td>\n",
       "    </tr>\n",
       "    <tr>\n",
       "      <th>4619</th>\n",
       "      <td>Sat Jan 30 19:02:02 +0000 2021</td>\n",
       "      <td>@StojyBoy Ccc extra meat\\n add bacon\\n america...</td>\n",
       "    </tr>\n",
       "    <tr>\n",
       "      <th>4620</th>\n",
       "      <td>Sat Jan 30 19:02:02 +0000 2021</td>\n",
       "      <td>@luckyisdesi I was thinking of uncle/auntie as...</td>\n",
       "    </tr>\n",
       "    <tr>\n",
       "      <th>4621</th>\n",
       "      <td>Sat Jan 30 19:02:02 +0000 2021</td>\n",
       "      <td>Dr. Hope!😎 https://t.co/xvjurm10dU</td>\n",
       "    </tr>\n",
       "    <tr>\n",
       "      <th>4622</th>\n",
       "      <td>Sat Jan 30 19:02:02 +0000 2021</td>\n",
       "      <td>He was wearing exact denim pollo that he wore ...</td>\n",
       "    </tr>\n",
       "  </tbody>\n",
       "</table>\n",
       "<p>4623 rows × 2 columns</p>\n",
       "</div>"
      ],
      "text/plain": [
       "                          created_at  \\\n",
       "0     Sat Jan 30 18:29:06 +0000 2021   \n",
       "1     Sat Jan 30 18:29:06 +0000 2021   \n",
       "2     Sat Jan 30 18:29:06 +0000 2021   \n",
       "3     Sat Jan 30 18:29:06 +0000 2021   \n",
       "4     Sat Jan 30 18:29:06 +0000 2021   \n",
       "...                              ...   \n",
       "4618  Sat Jan 30 19:02:02 +0000 2021   \n",
       "4619  Sat Jan 30 19:02:02 +0000 2021   \n",
       "4620  Sat Jan 30 19:02:02 +0000 2021   \n",
       "4621  Sat Jan 30 19:02:02 +0000 2021   \n",
       "4622  Sat Jan 30 19:02:02 +0000 2021   \n",
       "\n",
       "                                                   text  \n",
       "0     RT @Raglant33: these 7 minute long credits for...  \n",
       "1                          @TheGingerarchy White walker  \n",
       "2     [Question] Can AltDeploy be used on iOS 13.5 h...  \n",
       "3     RT @Stock_Car_Spec: Season 3 is here!! \\nWe di...  \n",
       "4     RT @TransEthics: By calling cis people cis we ...  \n",
       "...                                                 ...  \n",
       "4618                                            no rips  \n",
       "4619  @StojyBoy Ccc extra meat\\n add bacon\\n america...  \n",
       "4620  @luckyisdesi I was thinking of uncle/auntie as...  \n",
       "4621                 Dr. Hope!😎 https://t.co/xvjurm10dU  \n",
       "4622  He was wearing exact denim pollo that he wore ...  \n",
       "\n",
       "[4623 rows x 2 columns]"
      ]
     },
     "execution_count": 13,
     "metadata": {},
     "output_type": "execute_result"
    }
   ],
   "source": [
    "# 逐次\n",
    "pd.DataFrame(tweets({'lang':'en'}))"
   ]
  },
  {
   "cell_type": "code",
   "execution_count": 14,
   "metadata": {},
   "outputs": [
    {
     "data": {
      "text/html": [
       "<div>\n",
       "<style scoped>\n",
       "    .dataframe tbody tr th:only-of-type {\n",
       "        vertical-align: middle;\n",
       "    }\n",
       "\n",
       "    .dataframe tbody tr th {\n",
       "        vertical-align: top;\n",
       "    }\n",
       "\n",
       "    .dataframe thead th {\n",
       "        text-align: right;\n",
       "    }\n",
       "</style>\n",
       "<table border=\"1\" class=\"dataframe\">\n",
       "  <thead>\n",
       "    <tr style=\"text-align: right;\">\n",
       "      <th></th>\n",
       "      <th>created_at</th>\n",
       "      <th>text</th>\n",
       "    </tr>\n",
       "  </thead>\n",
       "  <tbody>\n",
       "    <tr>\n",
       "      <th>0</th>\n",
       "      <td>Sat Jan 30 18:29:06 +0000 2021</td>\n",
       "      <td>RT @Raglant33: these 7 minute long credits for...</td>\n",
       "    </tr>\n",
       "    <tr>\n",
       "      <th>1</th>\n",
       "      <td>Sat Jan 30 18:29:06 +0000 2021</td>\n",
       "      <td>@TheGingerarchy White walker</td>\n",
       "    </tr>\n",
       "    <tr>\n",
       "      <th>2</th>\n",
       "      <td>Sat Jan 30 18:29:06 +0000 2021</td>\n",
       "      <td>[Question] Can AltDeploy be used on iOS 13.5 h...</td>\n",
       "    </tr>\n",
       "    <tr>\n",
       "      <th>3</th>\n",
       "      <td>Sat Jan 30 18:29:06 +0000 2021</td>\n",
       "      <td>RT @Stock_Car_Spec: Season 3 is here!! \\nWe di...</td>\n",
       "    </tr>\n",
       "    <tr>\n",
       "      <th>4</th>\n",
       "      <td>Sat Jan 30 18:29:06 +0000 2021</td>\n",
       "      <td>RT @TransEthics: By calling cis people cis we ...</td>\n",
       "    </tr>\n",
       "    <tr>\n",
       "      <th>...</th>\n",
       "      <td>...</td>\n",
       "      <td>...</td>\n",
       "    </tr>\n",
       "    <tr>\n",
       "      <th>4618</th>\n",
       "      <td>Sat Jan 30 19:02:02 +0000 2021</td>\n",
       "      <td>no rips</td>\n",
       "    </tr>\n",
       "    <tr>\n",
       "      <th>4619</th>\n",
       "      <td>Sat Jan 30 19:02:02 +0000 2021</td>\n",
       "      <td>@StojyBoy Ccc extra meat\\n add bacon\\n america...</td>\n",
       "    </tr>\n",
       "    <tr>\n",
       "      <th>4620</th>\n",
       "      <td>Sat Jan 30 19:02:02 +0000 2021</td>\n",
       "      <td>@luckyisdesi I was thinking of uncle/auntie as...</td>\n",
       "    </tr>\n",
       "    <tr>\n",
       "      <th>4621</th>\n",
       "      <td>Sat Jan 30 19:02:02 +0000 2021</td>\n",
       "      <td>Dr. Hope!😎 https://t.co/xvjurm10dU</td>\n",
       "    </tr>\n",
       "    <tr>\n",
       "      <th>4622</th>\n",
       "      <td>Sat Jan 30 19:02:02 +0000 2021</td>\n",
       "      <td>He was wearing exact denim pollo that he wore ...</td>\n",
       "    </tr>\n",
       "  </tbody>\n",
       "</table>\n",
       "<p>4623 rows × 2 columns</p>\n",
       "</div>"
      ],
      "text/plain": [
       "                          created_at  \\\n",
       "0     Sat Jan 30 18:29:06 +0000 2021   \n",
       "1     Sat Jan 30 18:29:06 +0000 2021   \n",
       "2     Sat Jan 30 18:29:06 +0000 2021   \n",
       "3     Sat Jan 30 18:29:06 +0000 2021   \n",
       "4     Sat Jan 30 18:29:06 +0000 2021   \n",
       "...                              ...   \n",
       "4618  Sat Jan 30 19:02:02 +0000 2021   \n",
       "4619  Sat Jan 30 19:02:02 +0000 2021   \n",
       "4620  Sat Jan 30 19:02:02 +0000 2021   \n",
       "4621  Sat Jan 30 19:02:02 +0000 2021   \n",
       "4622  Sat Jan 30 19:02:02 +0000 2021   \n",
       "\n",
       "                                                   text  \n",
       "0     RT @Raglant33: these 7 minute long credits for...  \n",
       "1                          @TheGingerarchy White walker  \n",
       "2     [Question] Can AltDeploy be used on iOS 13.5 h...  \n",
       "3     RT @Stock_Car_Spec: Season 3 is here!! \\nWe di...  \n",
       "4     RT @TransEthics: By calling cis people cis we ...  \n",
       "...                                                 ...  \n",
       "4618                                            no rips  \n",
       "4619  @StojyBoy Ccc extra meat\\n add bacon\\n america...  \n",
       "4620  @luckyisdesi I was thinking of uncle/auntie as...  \n",
       "4621                 Dr. Hope!😎 https://t.co/xvjurm10dU  \n",
       "4622  He was wearing exact denim pollo that he wore ...  \n",
       "\n",
       "[4623 rows x 2 columns]"
      ]
     },
     "execution_count": 14,
     "metadata": {},
     "output_type": "execute_result"
    }
   ],
   "source": [
    "# 一括\n",
    "df = pd.DataFrame(list(mongo.twitter.sample.find({'lang':'en'})))\n",
    "df[['created_at', 'text']]"
   ]
  },
  {
   "cell_type": "code",
   "execution_count": 15,
   "metadata": {},
   "outputs": [
    {
     "name": "stdout",
     "output_type": "stream",
     "text": [
      "評価\n",
      "評価\n",
      "0\n",
      "1\n",
      "---\n",
      "評価\n",
      "0\n",
      "評価\n",
      "1\n"
     ]
    }
   ],
   "source": [
    "def return_foo():\n",
    "    buf = []\n",
    "    for i in range(2):\n",
    "        print('評価')\n",
    "        buf.append(i)\n",
    "    return buf\n",
    "\n",
    "def yield_foo():\n",
    "    for i in range(2):\n",
    "        print('評価')\n",
    "        yield i\n",
    "\n",
    "for r in return_foo():\n",
    "    print(r)\n",
    "print('---')\n",
    "for y in yield_foo():\n",
    "    print(y)"
   ]
  },
  {
   "cell_type": "markdown",
   "metadata": {},
   "source": [
    "# spark"
   ]
  },
  {
   "cell_type": "code",
   "execution_count": 1,
   "metadata": {},
   "outputs": [
    {
     "ename": "Exception",
     "evalue": "Java gateway process exited before sending its port number",
     "output_type": "error",
     "traceback": [
      "\u001b[0;31m---------------------------------------------------------------------------\u001b[0m",
      "\u001b[0;31mException\u001b[0m                                 Traceback (most recent call last)",
      "\u001b[0;32m<ipython-input-1-e46c043e28e2>\u001b[0m in \u001b[0;36m<module>\u001b[0;34m\u001b[0m\n\u001b[1;32m      1\u001b[0m \u001b[0;32mfrom\u001b[0m \u001b[0mpyspark\u001b[0m\u001b[0;34m.\u001b[0m\u001b[0msql\u001b[0m \u001b[0;32mimport\u001b[0m \u001b[0mSparkSession\u001b[0m\u001b[0;34m\u001b[0m\u001b[0;34m\u001b[0m\u001b[0m\n\u001b[1;32m      2\u001b[0m \u001b[0;34m\u001b[0m\u001b[0m\n\u001b[0;32m----> 3\u001b[0;31m \u001b[0mspark\u001b[0m \u001b[0;34m=\u001b[0m \u001b[0mSparkSession\u001b[0m\u001b[0;34m.\u001b[0m\u001b[0mbuilder\u001b[0m\u001b[0;34m.\u001b[0m\u001b[0mgetOrCreate\u001b[0m\u001b[0;34m(\u001b[0m\u001b[0;34m)\u001b[0m\u001b[0;34m\u001b[0m\u001b[0;34m\u001b[0m\u001b[0m\n\u001b[0m\u001b[1;32m      4\u001b[0m \u001b[0;34m\u001b[0m\u001b[0m\n\u001b[1;32m      5\u001b[0m \u001b[0;31m# do something to prove it works\u001b[0m\u001b[0;34m\u001b[0m\u001b[0;34m\u001b[0m\u001b[0;34m\u001b[0m\u001b[0m\n",
      "\u001b[0;32m/usr/local/Cellar/apache-spark/3.0.1/libexec/python/pyspark/sql/session.py\u001b[0m in \u001b[0;36mgetOrCreate\u001b[0;34m(self)\u001b[0m\n\u001b[1;32m    184\u001b[0m                             \u001b[0msparkConf\u001b[0m\u001b[0;34m.\u001b[0m\u001b[0mset\u001b[0m\u001b[0;34m(\u001b[0m\u001b[0mkey\u001b[0m\u001b[0;34m,\u001b[0m \u001b[0mvalue\u001b[0m\u001b[0;34m)\u001b[0m\u001b[0;34m\u001b[0m\u001b[0;34m\u001b[0m\u001b[0m\n\u001b[1;32m    185\u001b[0m                         \u001b[0;31m# This SparkContext may be an existing one.\u001b[0m\u001b[0;34m\u001b[0m\u001b[0;34m\u001b[0m\u001b[0;34m\u001b[0m\u001b[0m\n\u001b[0;32m--> 186\u001b[0;31m                         \u001b[0msc\u001b[0m \u001b[0;34m=\u001b[0m \u001b[0mSparkContext\u001b[0m\u001b[0;34m.\u001b[0m\u001b[0mgetOrCreate\u001b[0m\u001b[0;34m(\u001b[0m\u001b[0msparkConf\u001b[0m\u001b[0;34m)\u001b[0m\u001b[0;34m\u001b[0m\u001b[0;34m\u001b[0m\u001b[0m\n\u001b[0m\u001b[1;32m    187\u001b[0m                     \u001b[0;31m# Do not update `SparkConf` for existing `SparkContext`, as it's shared\u001b[0m\u001b[0;34m\u001b[0m\u001b[0;34m\u001b[0m\u001b[0;34m\u001b[0m\u001b[0m\n\u001b[1;32m    188\u001b[0m                     \u001b[0;31m# by all sessions.\u001b[0m\u001b[0;34m\u001b[0m\u001b[0;34m\u001b[0m\u001b[0;34m\u001b[0m\u001b[0m\n",
      "\u001b[0;32m/usr/local/Cellar/apache-spark/3.0.1/libexec/python/pyspark/context.py\u001b[0m in \u001b[0;36mgetOrCreate\u001b[0;34m(cls, conf)\u001b[0m\n\u001b[1;32m    374\u001b[0m         \u001b[0;32mwith\u001b[0m \u001b[0mSparkContext\u001b[0m\u001b[0;34m.\u001b[0m\u001b[0m_lock\u001b[0m\u001b[0;34m:\u001b[0m\u001b[0;34m\u001b[0m\u001b[0;34m\u001b[0m\u001b[0m\n\u001b[1;32m    375\u001b[0m             \u001b[0;32mif\u001b[0m \u001b[0mSparkContext\u001b[0m\u001b[0;34m.\u001b[0m\u001b[0m_active_spark_context\u001b[0m \u001b[0;32mis\u001b[0m \u001b[0;32mNone\u001b[0m\u001b[0;34m:\u001b[0m\u001b[0;34m\u001b[0m\u001b[0;34m\u001b[0m\u001b[0m\n\u001b[0;32m--> 376\u001b[0;31m                 \u001b[0mSparkContext\u001b[0m\u001b[0;34m(\u001b[0m\u001b[0mconf\u001b[0m\u001b[0;34m=\u001b[0m\u001b[0mconf\u001b[0m \u001b[0;32mor\u001b[0m \u001b[0mSparkConf\u001b[0m\u001b[0;34m(\u001b[0m\u001b[0;34m)\u001b[0m\u001b[0;34m)\u001b[0m\u001b[0;34m\u001b[0m\u001b[0;34m\u001b[0m\u001b[0m\n\u001b[0m\u001b[1;32m    377\u001b[0m             \u001b[0;32mreturn\u001b[0m \u001b[0mSparkContext\u001b[0m\u001b[0;34m.\u001b[0m\u001b[0m_active_spark_context\u001b[0m\u001b[0;34m\u001b[0m\u001b[0;34m\u001b[0m\u001b[0m\n\u001b[1;32m    378\u001b[0m \u001b[0;34m\u001b[0m\u001b[0m\n",
      "\u001b[0;32m/usr/local/Cellar/apache-spark/3.0.1/libexec/python/pyspark/context.py\u001b[0m in \u001b[0;36m__init__\u001b[0;34m(self, master, appName, sparkHome, pyFiles, environment, batchSize, serializer, conf, gateway, jsc, profiler_cls)\u001b[0m\n\u001b[1;32m    131\u001b[0m                 \" is not allowed as it is a security risk.\")\n\u001b[1;32m    132\u001b[0m \u001b[0;34m\u001b[0m\u001b[0m\n\u001b[0;32m--> 133\u001b[0;31m         \u001b[0mSparkContext\u001b[0m\u001b[0;34m.\u001b[0m\u001b[0m_ensure_initialized\u001b[0m\u001b[0;34m(\u001b[0m\u001b[0mself\u001b[0m\u001b[0;34m,\u001b[0m \u001b[0mgateway\u001b[0m\u001b[0;34m=\u001b[0m\u001b[0mgateway\u001b[0m\u001b[0;34m,\u001b[0m \u001b[0mconf\u001b[0m\u001b[0;34m=\u001b[0m\u001b[0mconf\u001b[0m\u001b[0;34m)\u001b[0m\u001b[0;34m\u001b[0m\u001b[0;34m\u001b[0m\u001b[0m\n\u001b[0m\u001b[1;32m    134\u001b[0m         \u001b[0;32mtry\u001b[0m\u001b[0;34m:\u001b[0m\u001b[0;34m\u001b[0m\u001b[0;34m\u001b[0m\u001b[0m\n\u001b[1;32m    135\u001b[0m             self._do_init(master, appName, sparkHome, pyFiles, environment, batchSize, serializer,\n",
      "\u001b[0;32m/usr/local/Cellar/apache-spark/3.0.1/libexec/python/pyspark/context.py\u001b[0m in \u001b[0;36m_ensure_initialized\u001b[0;34m(cls, instance, gateway, conf)\u001b[0m\n\u001b[1;32m    323\u001b[0m         \u001b[0;32mwith\u001b[0m \u001b[0mSparkContext\u001b[0m\u001b[0;34m.\u001b[0m\u001b[0m_lock\u001b[0m\u001b[0;34m:\u001b[0m\u001b[0;34m\u001b[0m\u001b[0;34m\u001b[0m\u001b[0m\n\u001b[1;32m    324\u001b[0m             \u001b[0;32mif\u001b[0m \u001b[0;32mnot\u001b[0m \u001b[0mSparkContext\u001b[0m\u001b[0;34m.\u001b[0m\u001b[0m_gateway\u001b[0m\u001b[0;34m:\u001b[0m\u001b[0;34m\u001b[0m\u001b[0;34m\u001b[0m\u001b[0m\n\u001b[0;32m--> 325\u001b[0;31m                 \u001b[0mSparkContext\u001b[0m\u001b[0;34m.\u001b[0m\u001b[0m_gateway\u001b[0m \u001b[0;34m=\u001b[0m \u001b[0mgateway\u001b[0m \u001b[0;32mor\u001b[0m \u001b[0mlaunch_gateway\u001b[0m\u001b[0;34m(\u001b[0m\u001b[0mconf\u001b[0m\u001b[0;34m)\u001b[0m\u001b[0;34m\u001b[0m\u001b[0;34m\u001b[0m\u001b[0m\n\u001b[0m\u001b[1;32m    326\u001b[0m                 \u001b[0mSparkContext\u001b[0m\u001b[0;34m.\u001b[0m\u001b[0m_jvm\u001b[0m \u001b[0;34m=\u001b[0m \u001b[0mSparkContext\u001b[0m\u001b[0;34m.\u001b[0m\u001b[0m_gateway\u001b[0m\u001b[0;34m.\u001b[0m\u001b[0mjvm\u001b[0m\u001b[0;34m\u001b[0m\u001b[0;34m\u001b[0m\u001b[0m\n\u001b[1;32m    327\u001b[0m \u001b[0;34m\u001b[0m\u001b[0m\n",
      "\u001b[0;32m/usr/local/Cellar/apache-spark/3.0.1/libexec/python/pyspark/java_gateway.py\u001b[0m in \u001b[0;36mlaunch_gateway\u001b[0;34m(conf, popen_kwargs)\u001b[0m\n\u001b[1;32m    103\u001b[0m \u001b[0;34m\u001b[0m\u001b[0m\n\u001b[1;32m    104\u001b[0m             \u001b[0;32mif\u001b[0m \u001b[0;32mnot\u001b[0m \u001b[0mos\u001b[0m\u001b[0;34m.\u001b[0m\u001b[0mpath\u001b[0m\u001b[0;34m.\u001b[0m\u001b[0misfile\u001b[0m\u001b[0;34m(\u001b[0m\u001b[0mconn_info_file\u001b[0m\u001b[0;34m)\u001b[0m\u001b[0;34m:\u001b[0m\u001b[0;34m\u001b[0m\u001b[0;34m\u001b[0m\u001b[0m\n\u001b[0;32m--> 105\u001b[0;31m                 \u001b[0;32mraise\u001b[0m \u001b[0mException\u001b[0m\u001b[0;34m(\u001b[0m\u001b[0;34m\"Java gateway process exited before sending its port number\"\u001b[0m\u001b[0;34m)\u001b[0m\u001b[0;34m\u001b[0m\u001b[0;34m\u001b[0m\u001b[0m\n\u001b[0m\u001b[1;32m    106\u001b[0m \u001b[0;34m\u001b[0m\u001b[0m\n\u001b[1;32m    107\u001b[0m             \u001b[0;32mwith\u001b[0m \u001b[0mopen\u001b[0m\u001b[0;34m(\u001b[0m\u001b[0mconn_info_file\u001b[0m\u001b[0;34m,\u001b[0m \u001b[0;34m\"rb\"\u001b[0m\u001b[0;34m)\u001b[0m \u001b[0;32mas\u001b[0m \u001b[0minfo\u001b[0m\u001b[0;34m:\u001b[0m\u001b[0;34m\u001b[0m\u001b[0;34m\u001b[0m\u001b[0m\n",
      "\u001b[0;31mException\u001b[0m: Java gateway process exited before sending its port number"
     ]
    }
   ],
   "source": [
    "from pyspark.sql import SparkSession\n",
    "\n",
    "spark = SparkSession.builder.getOrCreate()\n",
    "\n",
    "# do something to prove it works\n",
    "spark.sql('SELECT \"Test\" as c1').show()"
   ]
  },
  {
   "cell_type": "code",
   "execution_count": 3,
   "metadata": {},
   "outputs": [
    {
     "ename": "Exception",
     "evalue": "Java gateway process exited before sending its port number",
     "output_type": "error",
     "traceback": [
      "\u001b[0;31m---------------------------------------------------------------------------\u001b[0m",
      "\u001b[0;31mException\u001b[0m                                 Traceback (most recent call last)",
      "\u001b[0;32m<ipython-input-3-a990e23b682e>\u001b[0m in \u001b[0;36m<module>\u001b[0;34m\u001b[0m\n\u001b[1;32m      1\u001b[0m \u001b[0;32mfrom\u001b[0m \u001b[0mpyspark\u001b[0m\u001b[0;34m.\u001b[0m\u001b[0msql\u001b[0m \u001b[0;32mimport\u001b[0m \u001b[0mSparkSession\u001b[0m\u001b[0;34m\u001b[0m\u001b[0;34m\u001b[0m\u001b[0m\n\u001b[1;32m      2\u001b[0m \u001b[0;34m\u001b[0m\u001b[0m\n\u001b[0;32m----> 3\u001b[0;31m \u001b[0mspark\u001b[0m \u001b[0;34m=\u001b[0m \u001b[0mSparkSession\u001b[0m\u001b[0;31m \u001b[0m\u001b[0;31m\\\u001b[0m\u001b[0;34m\u001b[0m\u001b[0;34m\u001b[0m\u001b[0m\n\u001b[0m\u001b[1;32m      4\u001b[0m     \u001b[0;34m.\u001b[0m\u001b[0mbuilder\u001b[0m\u001b[0;31m \u001b[0m\u001b[0;31m\\\u001b[0m\u001b[0;34m\u001b[0m\u001b[0;34m\u001b[0m\u001b[0m\n\u001b[1;32m      5\u001b[0m     \u001b[0;34m.\u001b[0m\u001b[0mappName\u001b[0m\u001b[0;34m(\u001b[0m\u001b[0;34m\"Python Spark SQL basic example\"\u001b[0m\u001b[0;34m)\u001b[0m\u001b[0;31m \u001b[0m\u001b[0;31m\\\u001b[0m\u001b[0;34m\u001b[0m\u001b[0;34m\u001b[0m\u001b[0m\n",
      "\u001b[0;32m/usr/local/Cellar/apache-spark/3.0.1/libexec/python/pyspark/sql/session.py\u001b[0m in \u001b[0;36mgetOrCreate\u001b[0;34m(self)\u001b[0m\n\u001b[1;32m    184\u001b[0m                             \u001b[0msparkConf\u001b[0m\u001b[0;34m.\u001b[0m\u001b[0mset\u001b[0m\u001b[0;34m(\u001b[0m\u001b[0mkey\u001b[0m\u001b[0;34m,\u001b[0m \u001b[0mvalue\u001b[0m\u001b[0;34m)\u001b[0m\u001b[0;34m\u001b[0m\u001b[0;34m\u001b[0m\u001b[0m\n\u001b[1;32m    185\u001b[0m                         \u001b[0;31m# This SparkContext may be an existing one.\u001b[0m\u001b[0;34m\u001b[0m\u001b[0;34m\u001b[0m\u001b[0;34m\u001b[0m\u001b[0m\n\u001b[0;32m--> 186\u001b[0;31m                         \u001b[0msc\u001b[0m \u001b[0;34m=\u001b[0m \u001b[0mSparkContext\u001b[0m\u001b[0;34m.\u001b[0m\u001b[0mgetOrCreate\u001b[0m\u001b[0;34m(\u001b[0m\u001b[0msparkConf\u001b[0m\u001b[0;34m)\u001b[0m\u001b[0;34m\u001b[0m\u001b[0;34m\u001b[0m\u001b[0m\n\u001b[0m\u001b[1;32m    187\u001b[0m                     \u001b[0;31m# Do not update `SparkConf` for existing `SparkContext`, as it's shared\u001b[0m\u001b[0;34m\u001b[0m\u001b[0;34m\u001b[0m\u001b[0;34m\u001b[0m\u001b[0m\n\u001b[1;32m    188\u001b[0m                     \u001b[0;31m# by all sessions.\u001b[0m\u001b[0;34m\u001b[0m\u001b[0;34m\u001b[0m\u001b[0;34m\u001b[0m\u001b[0m\n",
      "\u001b[0;32m/usr/local/Cellar/apache-spark/3.0.1/libexec/python/pyspark/context.py\u001b[0m in \u001b[0;36mgetOrCreate\u001b[0;34m(cls, conf)\u001b[0m\n\u001b[1;32m    374\u001b[0m         \u001b[0;32mwith\u001b[0m \u001b[0mSparkContext\u001b[0m\u001b[0;34m.\u001b[0m\u001b[0m_lock\u001b[0m\u001b[0;34m:\u001b[0m\u001b[0;34m\u001b[0m\u001b[0;34m\u001b[0m\u001b[0m\n\u001b[1;32m    375\u001b[0m             \u001b[0;32mif\u001b[0m \u001b[0mSparkContext\u001b[0m\u001b[0;34m.\u001b[0m\u001b[0m_active_spark_context\u001b[0m \u001b[0;32mis\u001b[0m \u001b[0;32mNone\u001b[0m\u001b[0;34m:\u001b[0m\u001b[0;34m\u001b[0m\u001b[0;34m\u001b[0m\u001b[0m\n\u001b[0;32m--> 376\u001b[0;31m                 \u001b[0mSparkContext\u001b[0m\u001b[0;34m(\u001b[0m\u001b[0mconf\u001b[0m\u001b[0;34m=\u001b[0m\u001b[0mconf\u001b[0m \u001b[0;32mor\u001b[0m \u001b[0mSparkConf\u001b[0m\u001b[0;34m(\u001b[0m\u001b[0;34m)\u001b[0m\u001b[0;34m)\u001b[0m\u001b[0;34m\u001b[0m\u001b[0;34m\u001b[0m\u001b[0m\n\u001b[0m\u001b[1;32m    377\u001b[0m             \u001b[0;32mreturn\u001b[0m \u001b[0mSparkContext\u001b[0m\u001b[0;34m.\u001b[0m\u001b[0m_active_spark_context\u001b[0m\u001b[0;34m\u001b[0m\u001b[0;34m\u001b[0m\u001b[0m\n\u001b[1;32m    378\u001b[0m \u001b[0;34m\u001b[0m\u001b[0m\n",
      "\u001b[0;32m/usr/local/Cellar/apache-spark/3.0.1/libexec/python/pyspark/context.py\u001b[0m in \u001b[0;36m__init__\u001b[0;34m(self, master, appName, sparkHome, pyFiles, environment, batchSize, serializer, conf, gateway, jsc, profiler_cls)\u001b[0m\n\u001b[1;32m    131\u001b[0m                 \" is not allowed as it is a security risk.\")\n\u001b[1;32m    132\u001b[0m \u001b[0;34m\u001b[0m\u001b[0m\n\u001b[0;32m--> 133\u001b[0;31m         \u001b[0mSparkContext\u001b[0m\u001b[0;34m.\u001b[0m\u001b[0m_ensure_initialized\u001b[0m\u001b[0;34m(\u001b[0m\u001b[0mself\u001b[0m\u001b[0;34m,\u001b[0m \u001b[0mgateway\u001b[0m\u001b[0;34m=\u001b[0m\u001b[0mgateway\u001b[0m\u001b[0;34m,\u001b[0m \u001b[0mconf\u001b[0m\u001b[0;34m=\u001b[0m\u001b[0mconf\u001b[0m\u001b[0;34m)\u001b[0m\u001b[0;34m\u001b[0m\u001b[0;34m\u001b[0m\u001b[0m\n\u001b[0m\u001b[1;32m    134\u001b[0m         \u001b[0;32mtry\u001b[0m\u001b[0;34m:\u001b[0m\u001b[0;34m\u001b[0m\u001b[0;34m\u001b[0m\u001b[0m\n\u001b[1;32m    135\u001b[0m             self._do_init(master, appName, sparkHome, pyFiles, environment, batchSize, serializer,\n",
      "\u001b[0;32m/usr/local/Cellar/apache-spark/3.0.1/libexec/python/pyspark/context.py\u001b[0m in \u001b[0;36m_ensure_initialized\u001b[0;34m(cls, instance, gateway, conf)\u001b[0m\n\u001b[1;32m    323\u001b[0m         \u001b[0;32mwith\u001b[0m \u001b[0mSparkContext\u001b[0m\u001b[0;34m.\u001b[0m\u001b[0m_lock\u001b[0m\u001b[0;34m:\u001b[0m\u001b[0;34m\u001b[0m\u001b[0;34m\u001b[0m\u001b[0m\n\u001b[1;32m    324\u001b[0m             \u001b[0;32mif\u001b[0m \u001b[0;32mnot\u001b[0m \u001b[0mSparkContext\u001b[0m\u001b[0;34m.\u001b[0m\u001b[0m_gateway\u001b[0m\u001b[0;34m:\u001b[0m\u001b[0;34m\u001b[0m\u001b[0;34m\u001b[0m\u001b[0m\n\u001b[0;32m--> 325\u001b[0;31m                 \u001b[0mSparkContext\u001b[0m\u001b[0;34m.\u001b[0m\u001b[0m_gateway\u001b[0m \u001b[0;34m=\u001b[0m \u001b[0mgateway\u001b[0m \u001b[0;32mor\u001b[0m \u001b[0mlaunch_gateway\u001b[0m\u001b[0;34m(\u001b[0m\u001b[0mconf\u001b[0m\u001b[0;34m)\u001b[0m\u001b[0;34m\u001b[0m\u001b[0;34m\u001b[0m\u001b[0m\n\u001b[0m\u001b[1;32m    326\u001b[0m                 \u001b[0mSparkContext\u001b[0m\u001b[0;34m.\u001b[0m\u001b[0m_jvm\u001b[0m \u001b[0;34m=\u001b[0m \u001b[0mSparkContext\u001b[0m\u001b[0;34m.\u001b[0m\u001b[0m_gateway\u001b[0m\u001b[0;34m.\u001b[0m\u001b[0mjvm\u001b[0m\u001b[0;34m\u001b[0m\u001b[0;34m\u001b[0m\u001b[0m\n\u001b[1;32m    327\u001b[0m \u001b[0;34m\u001b[0m\u001b[0m\n",
      "\u001b[0;32m/usr/local/Cellar/apache-spark/3.0.1/libexec/python/pyspark/java_gateway.py\u001b[0m in \u001b[0;36mlaunch_gateway\u001b[0;34m(conf, popen_kwargs)\u001b[0m\n\u001b[1;32m    103\u001b[0m \u001b[0;34m\u001b[0m\u001b[0m\n\u001b[1;32m    104\u001b[0m             \u001b[0;32mif\u001b[0m \u001b[0;32mnot\u001b[0m \u001b[0mos\u001b[0m\u001b[0;34m.\u001b[0m\u001b[0mpath\u001b[0m\u001b[0;34m.\u001b[0m\u001b[0misfile\u001b[0m\u001b[0;34m(\u001b[0m\u001b[0mconn_info_file\u001b[0m\u001b[0;34m)\u001b[0m\u001b[0;34m:\u001b[0m\u001b[0;34m\u001b[0m\u001b[0;34m\u001b[0m\u001b[0m\n\u001b[0;32m--> 105\u001b[0;31m                 \u001b[0;32mraise\u001b[0m \u001b[0mException\u001b[0m\u001b[0;34m(\u001b[0m\u001b[0;34m\"Java gateway process exited before sending its port number\"\u001b[0m\u001b[0;34m)\u001b[0m\u001b[0;34m\u001b[0m\u001b[0;34m\u001b[0m\u001b[0m\n\u001b[0m\u001b[1;32m    106\u001b[0m \u001b[0;34m\u001b[0m\u001b[0m\n\u001b[1;32m    107\u001b[0m             \u001b[0;32mwith\u001b[0m \u001b[0mopen\u001b[0m\u001b[0;34m(\u001b[0m\u001b[0mconn_info_file\u001b[0m\u001b[0;34m,\u001b[0m \u001b[0;34m\"rb\"\u001b[0m\u001b[0;34m)\u001b[0m \u001b[0;32mas\u001b[0m \u001b[0minfo\u001b[0m\u001b[0;34m:\u001b[0m\u001b[0;34m\u001b[0m\u001b[0;34m\u001b[0m\u001b[0m\n",
      "\u001b[0;31mException\u001b[0m: Java gateway process exited before sending its port number"
     ]
    }
   ],
   "source": [
    "from pyspark.sql import SparkSession\n",
    "\n",
    "spark = SparkSession \\\n",
    "    .builder \\\n",
    "    .appName(\"Python Spark SQL basic example\") \\\n",
    "    .config(\"spark.some.config.option\", \"some-value\") \\\n",
    "    .getOrCreate()"
   ]
  },
  {
   "cell_type": "code",
   "execution_count": 2,
   "metadata": {},
   "outputs": [
    {
     "ename": "NameError",
     "evalue": "name 'spark' is not defined",
     "output_type": "error",
     "traceback": [
      "\u001b[0;31m---------------------------------------------------------------------------\u001b[0m",
      "\u001b[0;31mNameError\u001b[0m                                 Traceback (most recent call last)",
      "\u001b[0;32m<ipython-input-2-1f46bfdbf00d>\u001b[0m in \u001b[0;36m<module>\u001b[0;34m\u001b[0m\n\u001b[1;32m      1\u001b[0m \u001b[0;31m# spark is an existing SparkSession\u001b[0m\u001b[0;34m\u001b[0m\u001b[0;34m\u001b[0m\u001b[0;34m\u001b[0m\u001b[0m\n\u001b[0;32m----> 2\u001b[0;31m \u001b[0mdf\u001b[0m \u001b[0;34m=\u001b[0m \u001b[0mspark\u001b[0m\u001b[0;34m.\u001b[0m\u001b[0mread\u001b[0m\u001b[0;34m.\u001b[0m\u001b[0mjson\u001b[0m\u001b[0;34m(\u001b[0m\u001b[0;34m\"../memo/person.json\"\u001b[0m\u001b[0;34m)\u001b[0m\u001b[0;34m\u001b[0m\u001b[0;34m\u001b[0m\u001b[0m\n\u001b[0m\u001b[1;32m      3\u001b[0m \u001b[0;31m# Displays the content of the DataFrame to stdout\u001b[0m\u001b[0;34m\u001b[0m\u001b[0;34m\u001b[0m\u001b[0;34m\u001b[0m\u001b[0m\n\u001b[1;32m      4\u001b[0m \u001b[0mdf\u001b[0m\u001b[0;34m.\u001b[0m\u001b[0mshow\u001b[0m\u001b[0;34m(\u001b[0m\u001b[0;34m)\u001b[0m\u001b[0;34m\u001b[0m\u001b[0;34m\u001b[0m\u001b[0m\n\u001b[1;32m      5\u001b[0m \u001b[0;31m# +----+-------+\u001b[0m\u001b[0;34m\u001b[0m\u001b[0;34m\u001b[0m\u001b[0;34m\u001b[0m\u001b[0m\n",
      "\u001b[0;31mNameError\u001b[0m: name 'spark' is not defined"
     ]
    }
   ],
   "source": [
    "# spark is an existing SparkSession\n",
    "df = spark.read.json(\"../memo/person.json\")\n",
    "# Displays the content of the DataFrame to stdout\n",
    "df.show()\n",
    "# +----+-------+\n",
    "# | age|   name|\n",
    "# +----+-------+\n",
    "# |null|Michael|\n",
    "# |  30|   Andy|\n",
    "# |  19| Justin|\n",
    "# +----+-------+"
   ]
  },
  {
   "cell_type": "code",
   "execution_count": 16,
   "metadata": {},
   "outputs": [
    {
     "ename": "Py4JJavaError",
     "evalue": "An error occurred while calling o143.load.\n: java.lang.ClassNotFoundException: Failed to find data source: com.mongodb.spark.sql.DefaultSource. Please find packages at http://spark.apache.org/third-party-projects.html\n\tat org.apache.spark.sql.execution.datasources.DataSource$.lookupDataSource(DataSource.scala:679)\n\tat org.apache.spark.sql.execution.datasources.DataSource$.lookupDataSourceV2(DataSource.scala:733)\n\tat org.apache.spark.sql.DataFrameReader.load(DataFrameReader.scala:248)\n\tat org.apache.spark.sql.DataFrameReader.load(DataFrameReader.scala:221)\n\tat java.base/jdk.internal.reflect.NativeMethodAccessorImpl.invoke0(Native Method)\n\tat java.base/jdk.internal.reflect.NativeMethodAccessorImpl.invoke(NativeMethodAccessorImpl.java:62)\n\tat java.base/jdk.internal.reflect.DelegatingMethodAccessorImpl.invoke(DelegatingMethodAccessorImpl.java:43)\n\tat java.base/java.lang.reflect.Method.invoke(Method.java:566)\n\tat py4j.reflection.MethodInvoker.invoke(MethodInvoker.java:244)\n\tat py4j.reflection.ReflectionEngine.invoke(ReflectionEngine.java:357)\n\tat py4j.Gateway.invoke(Gateway.java:282)\n\tat py4j.commands.AbstractCommand.invokeMethod(AbstractCommand.java:132)\n\tat py4j.commands.CallCommand.execute(CallCommand.java:79)\n\tat py4j.GatewayConnection.run(GatewayConnection.java:238)\n\tat java.base/java.lang.Thread.run(Thread.java:834)\nCaused by: java.lang.ClassNotFoundException: com.mongodb.spark.sql.DefaultSource.DefaultSource\n\tat java.base/java.net.URLClassLoader.findClass(URLClassLoader.java:471)\n\tat java.base/java.lang.ClassLoader.loadClass(ClassLoader.java:589)\n\tat java.base/java.lang.ClassLoader.loadClass(ClassLoader.java:522)\n\tat org.apache.spark.sql.execution.datasources.DataSource$.$anonfun$lookupDataSource$5(DataSource.scala:653)\n\tat scala.util.Try$.apply(Try.scala:213)\n\tat org.apache.spark.sql.execution.datasources.DataSource$.$anonfun$lookupDataSource$4(DataSource.scala:653)\n\tat scala.util.Failure.orElse(Try.scala:224)\n\tat org.apache.spark.sql.execution.datasources.DataSource$.lookupDataSource(DataSource.scala:653)\n\t... 14 more\n",
     "output_type": "error",
     "traceback": [
      "\u001b[0;31m---------------------------------------------------------------------------\u001b[0m",
      "\u001b[0;31mPy4JJavaError\u001b[0m                             Traceback (most recent call last)",
      "\u001b[0;32m<ipython-input-16-96b0760d7499>\u001b[0m in \u001b[0;36m<module>\u001b[0;34m\u001b[0m\n\u001b[0;32m----> 1\u001b[0;31m df = (spark.read\n\u001b[0m\u001b[1;32m      2\u001b[0m       \u001b[0;34m.\u001b[0m\u001b[0mformat\u001b[0m\u001b[0;34m(\u001b[0m\u001b[0;34m\"com.mongodb.spark.sql.DefaultSource\"\u001b[0m\u001b[0;34m)\u001b[0m\u001b[0;34m\u001b[0m\u001b[0;34m\u001b[0m\u001b[0m\n\u001b[1;32m      3\u001b[0m       .option(\"uri\", \"mongodb://localhost/twitter.sample\").load())\n",
      "\u001b[0;32m/usr/local/Cellar/apache-spark/3.0.1/libexec/python/pyspark/sql/readwriter.py\u001b[0m in \u001b[0;36mload\u001b[0;34m(self, path, format, schema, **options)\u001b[0m\n\u001b[1;32m    182\u001b[0m             \u001b[0;32mreturn\u001b[0m \u001b[0mself\u001b[0m\u001b[0;34m.\u001b[0m\u001b[0m_df\u001b[0m\u001b[0;34m(\u001b[0m\u001b[0mself\u001b[0m\u001b[0;34m.\u001b[0m\u001b[0m_jreader\u001b[0m\u001b[0;34m.\u001b[0m\u001b[0mload\u001b[0m\u001b[0;34m(\u001b[0m\u001b[0mself\u001b[0m\u001b[0;34m.\u001b[0m\u001b[0m_spark\u001b[0m\u001b[0;34m.\u001b[0m\u001b[0m_sc\u001b[0m\u001b[0;34m.\u001b[0m\u001b[0m_jvm\u001b[0m\u001b[0;34m.\u001b[0m\u001b[0mPythonUtils\u001b[0m\u001b[0;34m.\u001b[0m\u001b[0mtoSeq\u001b[0m\u001b[0;34m(\u001b[0m\u001b[0mpath\u001b[0m\u001b[0;34m)\u001b[0m\u001b[0;34m)\u001b[0m\u001b[0;34m)\u001b[0m\u001b[0;34m\u001b[0m\u001b[0;34m\u001b[0m\u001b[0m\n\u001b[1;32m    183\u001b[0m         \u001b[0;32melse\u001b[0m\u001b[0;34m:\u001b[0m\u001b[0;34m\u001b[0m\u001b[0;34m\u001b[0m\u001b[0m\n\u001b[0;32m--> 184\u001b[0;31m             \u001b[0;32mreturn\u001b[0m \u001b[0mself\u001b[0m\u001b[0;34m.\u001b[0m\u001b[0m_df\u001b[0m\u001b[0;34m(\u001b[0m\u001b[0mself\u001b[0m\u001b[0;34m.\u001b[0m\u001b[0m_jreader\u001b[0m\u001b[0;34m.\u001b[0m\u001b[0mload\u001b[0m\u001b[0;34m(\u001b[0m\u001b[0;34m)\u001b[0m\u001b[0;34m)\u001b[0m\u001b[0;34m\u001b[0m\u001b[0;34m\u001b[0m\u001b[0m\n\u001b[0m\u001b[1;32m    185\u001b[0m \u001b[0;34m\u001b[0m\u001b[0m\n\u001b[1;32m    186\u001b[0m     \u001b[0;34m@\u001b[0m\u001b[0msince\u001b[0m\u001b[0;34m(\u001b[0m\u001b[0;36m1.4\u001b[0m\u001b[0;34m)\u001b[0m\u001b[0;34m\u001b[0m\u001b[0;34m\u001b[0m\u001b[0m\n",
      "\u001b[0;32m/usr/local/Cellar/apache-spark/3.0.1/libexec/python/lib/py4j-0.10.9-src.zip/py4j/java_gateway.py\u001b[0m in \u001b[0;36m__call__\u001b[0;34m(self, *args)\u001b[0m\n\u001b[1;32m   1302\u001b[0m \u001b[0;34m\u001b[0m\u001b[0m\n\u001b[1;32m   1303\u001b[0m         \u001b[0manswer\u001b[0m \u001b[0;34m=\u001b[0m \u001b[0mself\u001b[0m\u001b[0;34m.\u001b[0m\u001b[0mgateway_client\u001b[0m\u001b[0;34m.\u001b[0m\u001b[0msend_command\u001b[0m\u001b[0;34m(\u001b[0m\u001b[0mcommand\u001b[0m\u001b[0;34m)\u001b[0m\u001b[0;34m\u001b[0m\u001b[0;34m\u001b[0m\u001b[0m\n\u001b[0;32m-> 1304\u001b[0;31m         return_value = get_return_value(\n\u001b[0m\u001b[1;32m   1305\u001b[0m             answer, self.gateway_client, self.target_id, self.name)\n\u001b[1;32m   1306\u001b[0m \u001b[0;34m\u001b[0m\u001b[0m\n",
      "\u001b[0;32m/usr/local/Cellar/apache-spark/3.0.1/libexec/python/pyspark/sql/utils.py\u001b[0m in \u001b[0;36mdeco\u001b[0;34m(*a, **kw)\u001b[0m\n\u001b[1;32m    126\u001b[0m     \u001b[0;32mdef\u001b[0m \u001b[0mdeco\u001b[0m\u001b[0;34m(\u001b[0m\u001b[0;34m*\u001b[0m\u001b[0ma\u001b[0m\u001b[0;34m,\u001b[0m \u001b[0;34m**\u001b[0m\u001b[0mkw\u001b[0m\u001b[0;34m)\u001b[0m\u001b[0;34m:\u001b[0m\u001b[0;34m\u001b[0m\u001b[0;34m\u001b[0m\u001b[0m\n\u001b[1;32m    127\u001b[0m         \u001b[0;32mtry\u001b[0m\u001b[0;34m:\u001b[0m\u001b[0;34m\u001b[0m\u001b[0;34m\u001b[0m\u001b[0m\n\u001b[0;32m--> 128\u001b[0;31m             \u001b[0;32mreturn\u001b[0m \u001b[0mf\u001b[0m\u001b[0;34m(\u001b[0m\u001b[0;34m*\u001b[0m\u001b[0ma\u001b[0m\u001b[0;34m,\u001b[0m \u001b[0;34m**\u001b[0m\u001b[0mkw\u001b[0m\u001b[0;34m)\u001b[0m\u001b[0;34m\u001b[0m\u001b[0;34m\u001b[0m\u001b[0m\n\u001b[0m\u001b[1;32m    129\u001b[0m         \u001b[0;32mexcept\u001b[0m \u001b[0mpy4j\u001b[0m\u001b[0;34m.\u001b[0m\u001b[0mprotocol\u001b[0m\u001b[0;34m.\u001b[0m\u001b[0mPy4JJavaError\u001b[0m \u001b[0;32mas\u001b[0m \u001b[0me\u001b[0m\u001b[0;34m:\u001b[0m\u001b[0;34m\u001b[0m\u001b[0;34m\u001b[0m\u001b[0m\n\u001b[1;32m    130\u001b[0m             \u001b[0mconverted\u001b[0m \u001b[0;34m=\u001b[0m \u001b[0mconvert_exception\u001b[0m\u001b[0;34m(\u001b[0m\u001b[0me\u001b[0m\u001b[0;34m.\u001b[0m\u001b[0mjava_exception\u001b[0m\u001b[0;34m)\u001b[0m\u001b[0;34m\u001b[0m\u001b[0;34m\u001b[0m\u001b[0m\n",
      "\u001b[0;32m/usr/local/Cellar/apache-spark/3.0.1/libexec/python/lib/py4j-0.10.9-src.zip/py4j/protocol.py\u001b[0m in \u001b[0;36mget_return_value\u001b[0;34m(answer, gateway_client, target_id, name)\u001b[0m\n\u001b[1;32m    324\u001b[0m             \u001b[0mvalue\u001b[0m \u001b[0;34m=\u001b[0m \u001b[0mOUTPUT_CONVERTER\u001b[0m\u001b[0;34m[\u001b[0m\u001b[0mtype\u001b[0m\u001b[0;34m]\u001b[0m\u001b[0;34m(\u001b[0m\u001b[0manswer\u001b[0m\u001b[0;34m[\u001b[0m\u001b[0;36m2\u001b[0m\u001b[0;34m:\u001b[0m\u001b[0;34m]\u001b[0m\u001b[0;34m,\u001b[0m \u001b[0mgateway_client\u001b[0m\u001b[0;34m)\u001b[0m\u001b[0;34m\u001b[0m\u001b[0;34m\u001b[0m\u001b[0m\n\u001b[1;32m    325\u001b[0m             \u001b[0;32mif\u001b[0m \u001b[0manswer\u001b[0m\u001b[0;34m[\u001b[0m\u001b[0;36m1\u001b[0m\u001b[0;34m]\u001b[0m \u001b[0;34m==\u001b[0m \u001b[0mREFERENCE_TYPE\u001b[0m\u001b[0;34m:\u001b[0m\u001b[0;34m\u001b[0m\u001b[0;34m\u001b[0m\u001b[0m\n\u001b[0;32m--> 326\u001b[0;31m                 raise Py4JJavaError(\n\u001b[0m\u001b[1;32m    327\u001b[0m                     \u001b[0;34m\"An error occurred while calling {0}{1}{2}.\\n\"\u001b[0m\u001b[0;34m.\u001b[0m\u001b[0;34m\u001b[0m\u001b[0;34m\u001b[0m\u001b[0m\n\u001b[1;32m    328\u001b[0m                     format(target_id, \".\", name), value)\n",
      "\u001b[0;31mPy4JJavaError\u001b[0m: An error occurred while calling o143.load.\n: java.lang.ClassNotFoundException: Failed to find data source: com.mongodb.spark.sql.DefaultSource. Please find packages at http://spark.apache.org/third-party-projects.html\n\tat org.apache.spark.sql.execution.datasources.DataSource$.lookupDataSource(DataSource.scala:679)\n\tat org.apache.spark.sql.execution.datasources.DataSource$.lookupDataSourceV2(DataSource.scala:733)\n\tat org.apache.spark.sql.DataFrameReader.load(DataFrameReader.scala:248)\n\tat org.apache.spark.sql.DataFrameReader.load(DataFrameReader.scala:221)\n\tat java.base/jdk.internal.reflect.NativeMethodAccessorImpl.invoke0(Native Method)\n\tat java.base/jdk.internal.reflect.NativeMethodAccessorImpl.invoke(NativeMethodAccessorImpl.java:62)\n\tat java.base/jdk.internal.reflect.DelegatingMethodAccessorImpl.invoke(DelegatingMethodAccessorImpl.java:43)\n\tat java.base/java.lang.reflect.Method.invoke(Method.java:566)\n\tat py4j.reflection.MethodInvoker.invoke(MethodInvoker.java:244)\n\tat py4j.reflection.ReflectionEngine.invoke(ReflectionEngine.java:357)\n\tat py4j.Gateway.invoke(Gateway.java:282)\n\tat py4j.commands.AbstractCommand.invokeMethod(AbstractCommand.java:132)\n\tat py4j.commands.CallCommand.execute(CallCommand.java:79)\n\tat py4j.GatewayConnection.run(GatewayConnection.java:238)\n\tat java.base/java.lang.Thread.run(Thread.java:834)\nCaused by: java.lang.ClassNotFoundException: com.mongodb.spark.sql.DefaultSource.DefaultSource\n\tat java.base/java.net.URLClassLoader.findClass(URLClassLoader.java:471)\n\tat java.base/java.lang.ClassLoader.loadClass(ClassLoader.java:589)\n\tat java.base/java.lang.ClassLoader.loadClass(ClassLoader.java:522)\n\tat org.apache.spark.sql.execution.datasources.DataSource$.$anonfun$lookupDataSource$5(DataSource.scala:653)\n\tat scala.util.Try$.apply(Try.scala:213)\n\tat org.apache.spark.sql.execution.datasources.DataSource$.$anonfun$lookupDataSource$4(DataSource.scala:653)\n\tat scala.util.Failure.orElse(Try.scala:224)\n\tat org.apache.spark.sql.execution.datasources.DataSource$.lookupDataSource(DataSource.scala:653)\n\t... 14 more\n"
     ]
    }
   ],
   "source": [
    "df = (spark.read\n",
    "      .format(\"com.mongodb.spark.sql.DefaultSource\")\n",
    "      .option(\"uri\", \"mongodb://localhost/twitter.sample\").load())"
   ]
  },
  {
   "cell_type": "code",
   "execution_count": null,
   "metadata": {},
   "outputs": [],
   "source": [
    "### 参考文献\n"
   ]
  }
 ],
 "metadata": {
  "kernelspec": {
   "name": "python37364bitc8dd4e3dcbad4874989e928bb42038a1",
   "display_name": "Python 3.7.3 64-bit",
   "language": "python"
  },
  "language_info": {
   "codemirror_mode": {
    "name": "ipython",
    "version": 3
   },
   "file_extension": ".py",
   "mimetype": "text/x-python",
   "name": "python",
   "nbconvert_exporter": "python",
   "pygments_lexer": "ipython3",
   "version": "3.8.2-final"
  }
 },
 "nbformat": 4,
 "nbformat_minor": 2
}