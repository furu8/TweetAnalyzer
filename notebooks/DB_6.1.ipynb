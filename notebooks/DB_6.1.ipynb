{
 "metadata": {
  "language_info": {
   "codemirror_mode": {
    "name": "ipython",
    "version": 3
   },
   "file_extension": ".py",
   "mimetype": "text/x-python",
   "name": "python",
   "nbconvert_exporter": "python",
   "pygments_lexer": "ipython3",
   "version": "3.8.2-final"
  },
  "orig_nbformat": 2,
  "kernelspec": {
   "name": "python3",
   "display_name": "Python 3.8.2 64-bit",
   "metadata": {
    "interpreter": {
     "hash": "31f2aee4e71d21fbe5cf8b01ff0e069b9275f58929596ceb00d14d90e3e16cd6"
    }
   }
  }
 },
 "nbformat": 4,
 "nbformat_minor": 2,
 "cells": [
  {
   "source": [
    "# 大規模データベース論\n",
    "## 第6章 ビックデータ分析基盤の構築\n",
    "## 6.1 スキーマレスデータのアドホック分析"
   ],
   "cell_type": "markdown",
   "metadata": {}
  },
  {
   "cell_type": "code",
   "execution_count": 1,
   "metadata": {},
   "outputs": [
    {
     "output_type": "stream",
     "name": "stdout",
     "text": [
      "java version \"15.0.1\" 2020-10-20\nJava(TM) SE Runtime Environment (build 15.0.1+9-18)\nJava HotSpot(TM) 64-Bit Server VM (build 15.0.1+9-18, mixed mode, sharing)\n"
     ]
    }
   ],
   "source": [
    "!java -version"
   ]
  },
  {
   "cell_type": "code",
   "execution_count": 2,
   "metadata": {},
   "outputs": [
    {
     "output_type": "stream",
     "name": "stdout",
     "text": [
      "Python 3.8.2\n"
     ]
    }
   ],
   "source": [
    "!python3 -V"
   ]
  },
  {
   "source": [
    "### MongoDBのインストール\n",
    "本書の情報が古く` $ brew install mongodb` ができないため、https://www.tweeeety.blog/entry/2020/08/23/033501 を参考にインストール。\n",
    "```\n",
    "$ brew tap mongodb/brew\n",
    "$ brew install mongodb-community\n",
    "```"
   ],
   "cell_type": "markdown",
   "metadata": {}
  },
  {
   "cell_type": "code",
   "execution_count": 3,
   "metadata": {},
   "outputs": [
    {
     "output_type": "stream",
     "name": "stdout",
     "text": [
      "db version v4.4.1\nBuild Info: {\n    \"version\": \"4.4.1\",\n    \"gitVersion\": \"ad91a93a5a31e175f5cbf8c69561e788bbc55ce1\",\n    \"modules\": [],\n    \"allocator\": \"system\",\n    \"environment\": {\n        \"distarch\": \"x86_64\",\n        \"target_arch\": \"x86_64\"\n    }\n}\n"
     ]
    }
   ],
   "source": [
    "!mongod --version"
   ]
  },
  {
   "source": [
    "### MongoDBの起動\n",
    "```\n",
    "$ brew services start mongodb-community   # mongdbのバックグランドプロセスを自動起動\n",
    "$ brew services start mongodb-community   # 自動起動停止\n",
    "```\n",
    "https://gxliu.hatenablog.com/entry/2020/10/25/201501\n"
   ],
   "cell_type": "markdown",
   "metadata": {}
  },
  {
   "cell_type": "code",
   "execution_count": 4,
   "metadata": {},
   "outputs": [],
   "source": [
    "import pymongo\n",
    "import pandas as pd"
   ]
  },
  {
   "cell_type": "code",
   "execution_count": 5,
   "metadata": {},
   "outputs": [
    {
     "output_type": "execute_result",
     "data": {
      "text/plain": [
       "{'_id': ObjectId('5fe2fa2654fe97c18f78c45f'),\n",
       " 'delete': {'status': {'id': 1160163016836431872,\n",
       "   'id_str': '1160163016836431872',\n",
       "   'user_id': 740181917727739905,\n",
       "   'user_id_str': '740181917727739905'},\n",
       "  'timestamp_ms': '1608710576651'},\n",
       " '_timestamp': '2020-12-23T08:04:54.130391'}"
      ]
     },
     "metadata": {},
     "execution_count": 5
    }
   ],
   "source": [
    "mongo = pymongo.MongoClient()\n",
    "mongo.twitter.sample.find_one()"
   ]
  },
  {
   "cell_type": "code",
   "execution_count": 8,
   "metadata": {},
   "outputs": [
    {
     "output_type": "execute_result",
     "data": {
      "text/plain": [
       "                           _id  \\\n",
       "0     5fe2fa2654fe97c18f78c45f   \n",
       "1     5fe2fa2654fe97c18f78c460   \n",
       "2     5fe2fa2654fe97c18f78c461   \n",
       "3     5fe2fa2654fe97c18f78c462   \n",
       "4     5fe2fa2654fe97c18f78c463   \n",
       "...                        ...   \n",
       "9995  5fe2fa7654fe97c18f78eb6a   \n",
       "9996  5fe2fa7654fe97c18f78eb6b   \n",
       "9997  5fe2fa7654fe97c18f78eb6c   \n",
       "9998  5fe2fa7654fe97c18f78eb6d   \n",
       "9999  5fe2fa7654fe97c18f78eb6e   \n",
       "\n",
       "                                                 delete  \\\n",
       "0     {'status': {'id': 1160163016836431872, 'id_str...   \n",
       "1     {'status': {'id': 1255460929833185281, 'id_str...   \n",
       "2     {'status': {'id': 1341644255283081219, 'id_str...   \n",
       "3                                                   NaN   \n",
       "4     {'status': {'id': 1162770343007703040, 'id_str...   \n",
       "...                                                 ...   \n",
       "9995  {'status': {'id': 1327591579456946179, 'id_str...   \n",
       "9996  {'status': {'id': 1240790743406395392, 'id_str...   \n",
       "9997  {'status': {'id': 326981124121317377, 'id_str'...   \n",
       "9998  {'status': {'id': 1094309709358616576, 'id_str...   \n",
       "9999  {'status': {'id': 1163406526645592065, 'id_str...   \n",
       "\n",
       "                      _timestamp                      created_at  \\\n",
       "0     2020-12-23T08:04:54.130391                             NaN   \n",
       "1     2020-12-23T08:04:54.223166                             NaN   \n",
       "2     2020-12-23T08:04:54.225146                             NaN   \n",
       "3     2020-12-23T08:04:54.227071  Wed Dec 23 08:04:48 +0000 2020   \n",
       "4     2020-12-23T08:04:54.228875                             NaN   \n",
       "...                          ...                             ...   \n",
       "9995  2020-12-23T08:06:14.836479                             NaN   \n",
       "9996  2020-12-23T08:06:14.838672                             NaN   \n",
       "9997  2020-12-23T08:06:14.841051                             NaN   \n",
       "9998  2020-12-23T08:06:14.843001                             NaN   \n",
       "9999  2020-12-23T08:06:14.844781                             NaN   \n",
       "\n",
       "                id               id_str  \\\n",
       "0              NaN                  NaN   \n",
       "1              NaN                  NaN   \n",
       "2              NaN                  NaN   \n",
       "3     1.341656e+18  1341655986747150337   \n",
       "4              NaN                  NaN   \n",
       "...            ...                  ...   \n",
       "9995           NaN                  NaN   \n",
       "9996           NaN                  NaN   \n",
       "9997           NaN                  NaN   \n",
       "9998           NaN                  NaN   \n",
       "9999           NaN                  NaN   \n",
       "\n",
       "                                                   text display_text_range  \\\n",
       "0                                                   NaN                NaN   \n",
       "1                                                   NaN                NaN   \n",
       "2                                                   NaN                NaN   \n",
       "3     @6iliw @P99I_ هههههههههههههههههههههههههههههههه...          [14, 140]   \n",
       "4                                                   NaN                NaN   \n",
       "...                                                 ...                ...   \n",
       "9995                                                NaN                NaN   \n",
       "9996                                                NaN                NaN   \n",
       "9997                                                NaN                NaN   \n",
       "9998                                                NaN                NaN   \n",
       "9999                                                NaN                NaN   \n",
       "\n",
       "                                                 source truncated  ...  \\\n",
       "0                                                   NaN       NaN  ...   \n",
       "1                                                   NaN       NaN  ...   \n",
       "2                                                   NaN       NaN  ...   \n",
       "3     <a href=\"http://twitter.com/download/iphone\" r...      True  ...   \n",
       "4                                                   NaN       NaN  ...   \n",
       "...                                                 ...       ...  ...   \n",
       "9995                                                NaN       NaN  ...   \n",
       "9996                                                NaN       NaN  ...   \n",
       "9997                                                NaN       NaN  ...   \n",
       "9998                                                NaN       NaN  ...   \n",
       "9999                                                NaN       NaN  ...   \n",
       "\n",
       "      possibly_sensitive filter_level  lang   timestamp_ms extended_entities  \\\n",
       "0                    NaN          NaN   NaN            NaN               NaN   \n",
       "1                    NaN          NaN   NaN            NaN               NaN   \n",
       "2                    NaN          NaN   NaN            NaN               NaN   \n",
       "3                  False          low    ar  1608710688660               NaN   \n",
       "4                    NaN          NaN   NaN            NaN               NaN   \n",
       "...                  ...          ...   ...            ...               ...   \n",
       "9995                 NaN          NaN   NaN            NaN               NaN   \n",
       "9996                 NaN          NaN   NaN            NaN               NaN   \n",
       "9997                 NaN          NaN   NaN            NaN               NaN   \n",
       "9998                 NaN          NaN   NaN            NaN               NaN   \n",
       "9999                 NaN          NaN   NaN            NaN               NaN   \n",
       "\n",
       "     retweeted_status quoted_status_id quoted_status_id_str quoted_status  \\\n",
       "0                 NaN              NaN                  NaN           NaN   \n",
       "1                 NaN              NaN                  NaN           NaN   \n",
       "2                 NaN              NaN                  NaN           NaN   \n",
       "3                 NaN              NaN                  NaN           NaN   \n",
       "4                 NaN              NaN                  NaN           NaN   \n",
       "...               ...              ...                  ...           ...   \n",
       "9995              NaN              NaN                  NaN           NaN   \n",
       "9996              NaN              NaN                  NaN           NaN   \n",
       "9997              NaN              NaN                  NaN           NaN   \n",
       "9998              NaN              NaN                  NaN           NaN   \n",
       "9999              NaN              NaN                  NaN           NaN   \n",
       "\n",
       "      quoted_status_permalink  \n",
       "0                         NaN  \n",
       "1                         NaN  \n",
       "2                         NaN  \n",
       "3                         NaN  \n",
       "4                         NaN  \n",
       "...                       ...  \n",
       "9995                      NaN  \n",
       "9996                      NaN  \n",
       "9997                      NaN  \n",
       "9998                      NaN  \n",
       "9999                      NaN  \n",
       "\n",
       "[10000 rows x 39 columns]"
      ],
      "text/html": "<div>\n<style scoped>\n    .dataframe tbody tr th:only-of-type {\n        vertical-align: middle;\n    }\n\n    .dataframe tbody tr th {\n        vertical-align: top;\n    }\n\n    .dataframe thead th {\n        text-align: right;\n    }\n</style>\n<table border=\"1\" class=\"dataframe\">\n  <thead>\n    <tr style=\"text-align: right;\">\n      <th></th>\n      <th>_id</th>\n      <th>delete</th>\n      <th>_timestamp</th>\n      <th>created_at</th>\n      <th>id</th>\n      <th>id_str</th>\n      <th>text</th>\n      <th>display_text_range</th>\n      <th>source</th>\n      <th>truncated</th>\n      <th>...</th>\n      <th>possibly_sensitive</th>\n      <th>filter_level</th>\n      <th>lang</th>\n      <th>timestamp_ms</th>\n      <th>extended_entities</th>\n      <th>retweeted_status</th>\n      <th>quoted_status_id</th>\n      <th>quoted_status_id_str</th>\n      <th>quoted_status</th>\n      <th>quoted_status_permalink</th>\n    </tr>\n  </thead>\n  <tbody>\n    <tr>\n      <th>0</th>\n      <td>5fe2fa2654fe97c18f78c45f</td>\n      <td>{'status': {'id': 1160163016836431872, 'id_str...</td>\n      <td>2020-12-23T08:04:54.130391</td>\n      <td>NaN</td>\n      <td>NaN</td>\n      <td>NaN</td>\n      <td>NaN</td>\n      <td>NaN</td>\n      <td>NaN</td>\n      <td>NaN</td>\n      <td>...</td>\n      <td>NaN</td>\n      <td>NaN</td>\n      <td>NaN</td>\n      <td>NaN</td>\n      <td>NaN</td>\n      <td>NaN</td>\n      <td>NaN</td>\n      <td>NaN</td>\n      <td>NaN</td>\n      <td>NaN</td>\n    </tr>\n    <tr>\n      <th>1</th>\n      <td>5fe2fa2654fe97c18f78c460</td>\n      <td>{'status': {'id': 1255460929833185281, 'id_str...</td>\n      <td>2020-12-23T08:04:54.223166</td>\n      <td>NaN</td>\n      <td>NaN</td>\n      <td>NaN</td>\n      <td>NaN</td>\n      <td>NaN</td>\n      <td>NaN</td>\n      <td>NaN</td>\n      <td>...</td>\n      <td>NaN</td>\n      <td>NaN</td>\n      <td>NaN</td>\n      <td>NaN</td>\n      <td>NaN</td>\n      <td>NaN</td>\n      <td>NaN</td>\n      <td>NaN</td>\n      <td>NaN</td>\n      <td>NaN</td>\n    </tr>\n    <tr>\n      <th>2</th>\n      <td>5fe2fa2654fe97c18f78c461</td>\n      <td>{'status': {'id': 1341644255283081219, 'id_str...</td>\n      <td>2020-12-23T08:04:54.225146</td>\n      <td>NaN</td>\n      <td>NaN</td>\n      <td>NaN</td>\n      <td>NaN</td>\n      <td>NaN</td>\n      <td>NaN</td>\n      <td>NaN</td>\n      <td>...</td>\n      <td>NaN</td>\n      <td>NaN</td>\n      <td>NaN</td>\n      <td>NaN</td>\n      <td>NaN</td>\n      <td>NaN</td>\n      <td>NaN</td>\n      <td>NaN</td>\n      <td>NaN</td>\n      <td>NaN</td>\n    </tr>\n    <tr>\n      <th>3</th>\n      <td>5fe2fa2654fe97c18f78c462</td>\n      <td>NaN</td>\n      <td>2020-12-23T08:04:54.227071</td>\n      <td>Wed Dec 23 08:04:48 +0000 2020</td>\n      <td>1.341656e+18</td>\n      <td>1341655986747150337</td>\n      <td>@6iliw @P99I_ هههههههههههههههههههههههههههههههه...</td>\n      <td>[14, 140]</td>\n      <td>&lt;a href=\"http://twitter.com/download/iphone\" r...</td>\n      <td>True</td>\n      <td>...</td>\n      <td>False</td>\n      <td>low</td>\n      <td>ar</td>\n      <td>1608710688660</td>\n      <td>NaN</td>\n      <td>NaN</td>\n      <td>NaN</td>\n      <td>NaN</td>\n      <td>NaN</td>\n      <td>NaN</td>\n    </tr>\n    <tr>\n      <th>4</th>\n      <td>5fe2fa2654fe97c18f78c463</td>\n      <td>{'status': {'id': 1162770343007703040, 'id_str...</td>\n      <td>2020-12-23T08:04:54.228875</td>\n      <td>NaN</td>\n      <td>NaN</td>\n      <td>NaN</td>\n      <td>NaN</td>\n      <td>NaN</td>\n      <td>NaN</td>\n      <td>NaN</td>\n      <td>...</td>\n      <td>NaN</td>\n      <td>NaN</td>\n      <td>NaN</td>\n      <td>NaN</td>\n      <td>NaN</td>\n      <td>NaN</td>\n      <td>NaN</td>\n      <td>NaN</td>\n      <td>NaN</td>\n      <td>NaN</td>\n    </tr>\n    <tr>\n      <th>...</th>\n      <td>...</td>\n      <td>...</td>\n      <td>...</td>\n      <td>...</td>\n      <td>...</td>\n      <td>...</td>\n      <td>...</td>\n      <td>...</td>\n      <td>...</td>\n      <td>...</td>\n      <td>...</td>\n      <td>...</td>\n      <td>...</td>\n      <td>...</td>\n      <td>...</td>\n      <td>...</td>\n      <td>...</td>\n      <td>...</td>\n      <td>...</td>\n      <td>...</td>\n      <td>...</td>\n    </tr>\n    <tr>\n      <th>9995</th>\n      <td>5fe2fa7654fe97c18f78eb6a</td>\n      <td>{'status': {'id': 1327591579456946179, 'id_str...</td>\n      <td>2020-12-23T08:06:14.836479</td>\n      <td>NaN</td>\n      <td>NaN</td>\n      <td>NaN</td>\n      <td>NaN</td>\n      <td>NaN</td>\n      <td>NaN</td>\n      <td>NaN</td>\n      <td>...</td>\n      <td>NaN</td>\n      <td>NaN</td>\n      <td>NaN</td>\n      <td>NaN</td>\n      <td>NaN</td>\n      <td>NaN</td>\n      <td>NaN</td>\n      <td>NaN</td>\n      <td>NaN</td>\n      <td>NaN</td>\n    </tr>\n    <tr>\n      <th>9996</th>\n      <td>5fe2fa7654fe97c18f78eb6b</td>\n      <td>{'status': {'id': 1240790743406395392, 'id_str...</td>\n      <td>2020-12-23T08:06:14.838672</td>\n      <td>NaN</td>\n      <td>NaN</td>\n      <td>NaN</td>\n      <td>NaN</td>\n      <td>NaN</td>\n      <td>NaN</td>\n      <td>NaN</td>\n      <td>...</td>\n      <td>NaN</td>\n      <td>NaN</td>\n      <td>NaN</td>\n      <td>NaN</td>\n      <td>NaN</td>\n      <td>NaN</td>\n      <td>NaN</td>\n      <td>NaN</td>\n      <td>NaN</td>\n      <td>NaN</td>\n    </tr>\n    <tr>\n      <th>9997</th>\n      <td>5fe2fa7654fe97c18f78eb6c</td>\n      <td>{'status': {'id': 326981124121317377, 'id_str'...</td>\n      <td>2020-12-23T08:06:14.841051</td>\n      <td>NaN</td>\n      <td>NaN</td>\n      <td>NaN</td>\n      <td>NaN</td>\n      <td>NaN</td>\n      <td>NaN</td>\n      <td>NaN</td>\n      <td>...</td>\n      <td>NaN</td>\n      <td>NaN</td>\n      <td>NaN</td>\n      <td>NaN</td>\n      <td>NaN</td>\n      <td>NaN</td>\n      <td>NaN</td>\n      <td>NaN</td>\n      <td>NaN</td>\n      <td>NaN</td>\n    </tr>\n    <tr>\n      <th>9998</th>\n      <td>5fe2fa7654fe97c18f78eb6d</td>\n      <td>{'status': {'id': 1094309709358616576, 'id_str...</td>\n      <td>2020-12-23T08:06:14.843001</td>\n      <td>NaN</td>\n      <td>NaN</td>\n      <td>NaN</td>\n      <td>NaN</td>\n      <td>NaN</td>\n      <td>NaN</td>\n      <td>NaN</td>\n      <td>...</td>\n      <td>NaN</td>\n      <td>NaN</td>\n      <td>NaN</td>\n      <td>NaN</td>\n      <td>NaN</td>\n      <td>NaN</td>\n      <td>NaN</td>\n      <td>NaN</td>\n      <td>NaN</td>\n      <td>NaN</td>\n    </tr>\n    <tr>\n      <th>9999</th>\n      <td>5fe2fa7654fe97c18f78eb6e</td>\n      <td>{'status': {'id': 1163406526645592065, 'id_str...</td>\n      <td>2020-12-23T08:06:14.844781</td>\n      <td>NaN</td>\n      <td>NaN</td>\n      <td>NaN</td>\n      <td>NaN</td>\n      <td>NaN</td>\n      <td>NaN</td>\n      <td>NaN</td>\n      <td>...</td>\n      <td>NaN</td>\n      <td>NaN</td>\n      <td>NaN</td>\n      <td>NaN</td>\n      <td>NaN</td>\n      <td>NaN</td>\n      <td>NaN</td>\n      <td>NaN</td>\n      <td>NaN</td>\n      <td>NaN</td>\n    </tr>\n  </tbody>\n</table>\n<p>10000 rows × 39 columns</p>\n</div>"
     },
     "metadata": {},
     "execution_count": 8
    }
   ],
   "source": [
    "df = pd.DataFrame(list(mongo.twitter.sample.find(limit=10000)))\n",
    "df"
   ]
  },
  {
   "cell_type": "code",
   "execution_count": 9,
   "metadata": {},
   "outputs": [
    {
     "output_type": "stream",
     "name": "stdout",
     "text": [
      "<class 'pandas.core.frame.DataFrame'>\nRangeIndex: 10000 entries, 0 to 9999\nData columns (total 39 columns):\n #   Column                     Non-Null Count  Dtype  \n---  ------                     --------------  -----  \n 0   _id                        10000 non-null  object \n 1   delete                     7004 non-null   object \n 2   _timestamp                 10000 non-null  object \n 3   created_at                 2996 non-null   object \n 4   id                         2996 non-null   float64\n 5   id_str                     2996 non-null   object \n 6   text                       2996 non-null   object \n 7   display_text_range         939 non-null    object \n 8   source                     2996 non-null   object \n 9   truncated                  2996 non-null   object \n 10  in_reply_to_status_id      813 non-null    float64\n 11  in_reply_to_status_id_str  813 non-null    object \n 12  in_reply_to_user_id        837 non-null    float64\n 13  in_reply_to_user_id_str    837 non-null    object \n 14  in_reply_to_screen_name    837 non-null    object \n 15  user                       2996 non-null   object \n 16  geo                        1 non-null      object \n 17  coordinates                1 non-null      object \n 18  place                      18 non-null     object \n 19  contributors               0 non-null      float64\n 20  is_quote_status            2996 non-null   object \n 21  extended_tweet             162 non-null    object \n 22  quote_count                2996 non-null   float64\n 23  reply_count                2996 non-null   float64\n 24  retweet_count              2996 non-null   float64\n 25  favorite_count             2996 non-null   float64\n 26  entities                   2996 non-null   object \n 27  favorited                  2996 non-null   object \n 28  retweeted                  2996 non-null   object \n 29  possibly_sensitive         921 non-null    object \n 30  filter_level               2996 non-null   object \n 31  lang                       2996 non-null   object \n 32  timestamp_ms               2996 non-null   object \n 33  extended_entities          672 non-null    object \n 34  retweeted_status           1364 non-null   object \n 35  quoted_status_id           210 non-null    float64\n 36  quoted_status_id_str       210 non-null    object \n 37  quoted_status              210 non-null    object \n 38  quoted_status_permalink    210 non-null    object \ndtypes: float64(9), object(30)\nmemory usage: 3.0+ MB\n"
     ]
    }
   ],
   "source": [
    "df.info()"
   ]
  },
  {
   "cell_type": "code",
   "execution_count": null,
   "metadata": {},
   "outputs": [],
   "source": []
  },
  {
   "cell_type": "code",
   "execution_count": null,
   "metadata": {},
   "outputs": [],
   "source": []
  },
  {
   "cell_type": "code",
   "execution_count": null,
   "metadata": {},
   "outputs": [],
   "source": []
  },
  {
   "cell_type": "code",
   "execution_count": null,
   "metadata": {},
   "outputs": [],
   "source": []
  },
  {
   "cell_type": "code",
   "execution_count": 7,
   "metadata": {},
   "outputs": [],
   "source": [
    "### 参考文献\n"
   ]
  }
 ]
}